{
  "nbformat": 4,
  "nbformat_minor": 0,
  "metadata": {
    "colab": {
      "provenance": [],
      "authorship_tag": "ABX9TyMroL3EG2s7dYJ60cIVS3e6",
      "include_colab_link": true
    },
    "kernelspec": {
      "name": "python3",
      "display_name": "Python 3"
    },
    "language_info": {
      "name": "python"
    }
  },
  "cells": [
    {
      "cell_type": "markdown",
      "metadata": {
        "id": "view-in-github",
        "colab_type": "text"
      },
      "source": [
        "<a href=\"https://colab.research.google.com/github/PosgradoMNA/actividades-de-aprendizaje-A01793108/blob/main/Semana3Actividad1Parte3_A01793108.ipynb\" target=\"_parent\"><img src=\"https://colab.research.google.com/assets/colab-badge.svg\" alt=\"Open In Colab\"/></a>"
      ]
    },
    {
      "cell_type": "markdown",
      "source": [
        "Nombre: Jhonathan Ricardo Robayo Martínez\n",
        "\n",
        "Matrícula: A01793108\n",
        "\n",
        "Materia: Ciencia y Analítica de Datos\n",
        "\n",
        "Profesor: Jobish Vallikavungal\n",
        "\n",
        "Asesor: Juan Miguel Meza\n",
        "\n",
        "Fecha: 2022-10-02"
      ],
      "metadata": {
        "id": "sjMVz15CGLPM"
      }
    },
    {
      "cell_type": "markdown",
      "source": [
        "**Pregunta 1: ¿Qué datos considero más importantes? ¿Por qué?**\n",
        "\n",
        "Los datos que por el momento considero más importantes son: la variable de interés, las variables categóricas, el monto de crédito y el historial de pagos, estado de cuenta y monto de pago anterior para el último mes que es septiembre. Las demás variables temporales pueden ser relevantes pero tal vez no indispensables, lo cual se responderá cuando se realice un análisis estadístico y posteriores modelamientos.\n",
        "\n",
        "Las primeras variables mencionadas son las más relevantes porque nos cuentan ya las características de los individuos, tal vez, sean los suficiente para ya generar un primer entendimiento del problema, pero no lo suficientes si queremos abordar alguna temática en específico donde entrarían ya las variables temporales a contarnos más detalles.\n"
      ],
      "metadata": {
        "id": "bCJVebHEy0lh"
      }
    },
    {
      "cell_type": "markdown",
      "source": [
        "**Pregunta 2: ¿Se eliminaron o reemplazaron datos nulos? ¿Qué se hizo y por qué?**\n",
        "\n",
        "Encontramos que existen datos nulos en todas las variables, menos en el monto de crédito, por lo que se buscó el número de estas observaciones con irregularidades. En total, 42 individuos tenían datos perdidos en al menos una característica, y ya que representan menos del 1% de la base, se procedió a eliminarlos, para no invertir mucho esfuerzo en este apartado y luego usarlo en el análisis estadístico. \n",
        "\n",
        "Cabe mencionar, que esto fue realizado porque el valor no es demasiado alto en valores perdidos, si fuese lo contrario, se necesitaría un mayor nivel de atención a estos valores y aplicar técnicas de imputación.\n"
      ],
      "metadata": {
        "id": "M5SNK3fjGOIj"
      }
    },
    {
      "cell_type": "markdown",
      "source": [
        "**Pregunta 3: ¿Es necesario ordenar los datos para el análisis? Sí / No / ¿Por qué?**\n",
        "\n",
        "No es necesario ordenar los datos en este análisis.\n",
        "\n",
        "Esto porque no estamos analizando ninguna secuencia temporal, e incluso si fuese el caso no es absolutamente necesario, a más que sean series temporales.\n",
        "\n",
        "El ordenar las observaciones incluso puede ser un problema, en el caso de que quisiéramos extraer muestras aleatorias, tendríamos que considerar y extraerlas teniendo en cuenta una aleatoriedad previa, es decir barajear los datos antes de obtener muestras, de lo contrario puede que tomemos una muestra con alta concentración de algún mes, si ordenamos de forma temporal, lo cual no es lo correcto, dado que no construiremos un modelo con todo el contexto anual sino solo de un par de meses, haciendo que probablemente el modelo no logre entender completamente la realidad de los datos\n"
      ],
      "metadata": {
        "id": "klHhcOfnGQPw"
      }
    },
    {
      "cell_type": "markdown",
      "source": [
        "**Pregunta 4: ¿Existen problemas de formato que deban solucionar antes del proceso de modelado?Sí / No / Por qué.**\n",
        "\n",
        "Sí existen problemas.\n",
        "\n",
        "Al analizar las variables categóricas, presentaban una irregularidad en sus categorías existentes, pues en el caso de nivel de estudio, en la descripción de la base se consideraban 4 niveles y en realidad existían 6, en el estado civil existían 4 cuando deberían ser 3. Dichos valores con inconsistencias se remplazaron con la moda, es decir, el valor más frecuente.\n",
        "\n",
        "El trabajar con esos niveles no correctos podrían producir ruido en los insights y los modelos futuros que se obtengan.\n",
        "Para finalizar, deberíamos realizar un análisis de la distribución de las variables numéricas, analizar outliers o valores negativos donde no deba haber, etc.\n"
      ],
      "metadata": {
        "id": "SJezl5G5GUH_"
      }
    },
    {
      "cell_type": "markdown",
      "source": [
        "**Preguntas 5: ¿Qué ajustes se realizaron en el proceso de limpieza de datos (agregar, integrar, eliminar, modificar registros (filas), cambiar atributos (columnas)?**\n",
        "\n",
        "Entre los ajustes que desarrollamos están: eliminar observaciones con valores perdidos. Modificar registros que no corresponden con las categorías y remplazarlos con las modas. No se eliminaron por el momento columnas, para esto deberíamos hacer un análisis más profundo de la distribución de datos numéricos.\n"
      ],
      "metadata": {
        "id": "puK-57fGGVok"
      }
    }
  ]
}