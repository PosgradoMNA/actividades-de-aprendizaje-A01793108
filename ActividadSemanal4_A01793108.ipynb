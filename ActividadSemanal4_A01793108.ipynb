{
  "nbformat": 4,
  "nbformat_minor": 0,
  "metadata": {
    "colab": {
      "provenance": [],
      "authorship_tag": "ABX9TyP5Bcc4+Di5Dree7lMoV4oz",
      "include_colab_link": true
    },
    "kernelspec": {
      "name": "python3",
      "display_name": "Python 3"
    },
    "language_info": {
      "name": "python"
    }
  },
  "cells": [
    {
      "cell_type": "markdown",
      "metadata": {
        "id": "view-in-github",
        "colab_type": "text"
      },
      "source": [
        "<a href=\"https://colab.research.google.com/github/PosgradoMNA/actividades-de-aprendizaje-A01793108/blob/main/ActividadSemanal4_A01793108.ipynb\" target=\"_parent\"><img src=\"https://colab.research.google.com/assets/colab-badge.svg\" alt=\"Open In Colab\"/></a>"
      ]
    },
    {
      "cell_type": "markdown",
      "source": [
        "Nombre: Jhonathan Ricardo Robayo Martínez\n",
        "\n",
        "Matrícula: A01793108\n",
        "\n",
        "Materia: Ciencia y Analítica de Datos\n",
        "\n",
        "Profesor: Jobish Vallikavungal\n",
        "\n",
        "Asesor: Juan Miguel Meza\n",
        "\n",
        "Fecha: 2022-10-02"
      ],
      "metadata": {
        "id": "OVVdd90tUiyL"
      }
    },
    {
      "cell_type": "code",
      "execution_count": null,
      "metadata": {
        "id": "55nERqeyUiOy"
      },
      "outputs": [],
      "source": []
    }
  ]
}