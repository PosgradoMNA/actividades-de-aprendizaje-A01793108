{
  "nbformat": 4,
  "nbformat_minor": 0,
  "metadata": {
    "colab": {
      "name": "assignment01.ipynb",
      "provenance": [],
      "include_colab_link": true
    },
    "kernelspec": {
      "name": "python3",
      "display_name": "Python 3"
    },
    "language_info": {
      "name": "python"
    }
  },
  "cells": [
    {
      "cell_type": "markdown",
      "metadata": {
        "id": "view-in-github",
        "colab_type": "text"
      },
      "source": [
        "<a href=\"https://colab.research.google.com/github/PosgradoMNA/actividades-de-aprendizaje-A01793108/blob/main/Actividades%20de%20aprendizaje%20-%20Ciencia%20de%20Datos%20-%20IBM%20-%20Ricardo%20Robayo.ipynb\" target=\"_parent\"><img src=\"https://colab.research.google.com/assets/colab-badge.svg\" alt=\"Open In Colab\"/></a>"
      ]
    },
    {
      "cell_type": "markdown",
      "source": [
        "Curso de IBM\n",
        "\n",
        "Nombre: Jhonathan Ricardo Robayo Martínez\n",
        "\n",
        "Matrícula: A01793108\n",
        "\n",
        "-"
      ],
      "metadata": {
        "id": "38sMFk_txemF"
      }
    },
    {
      "cell_type": "markdown",
      "source": [
        "# **Modulo 1**\n",
        "Curso de IBM"
      ],
      "metadata": {
        "id": "jLqUFcLg3sPp"
      }
    },
    {
      "cell_type": "code",
      "source": [
        "# para lograr imprimir resultados en pantalla\n",
        "print(\"Hola\\nMundo\")\n",
        "## para comentar resultados\n",
        "# print(\"Hola\\nMundo\")"
      ],
      "metadata": {
        "id": "mxM_WppZPMFx",
        "outputId": "c3cec756-062a-4ac1-d9b7-966c565d2c9a",
        "colab": {
          "base_uri": "https://localhost:8080/"
        }
      },
      "execution_count": null,
      "outputs": [
        {
          "output_type": "stream",
          "name": "stdout",
          "text": [
            "Hola\n",
            "Mundo\n"
          ]
        }
      ]
    },
    {
      "cell_type": "markdown",
      "source": [
        "## 1.1 Tipos de data\n",
        "1.   character = str\n",
        "2.   boolean = bool no se menciona como dato\n",
        "3.   interger = int\n",
        "4.   float = float\n",
        "\n"
      ],
      "metadata": {
        "id": "UhR9K5IgA-c-"
      }
    },
    {
      "cell_type": "code",
      "source": [
        "## tipo de data en python\n",
        "print(type(int(1.1)))\n",
        "print(bool(1))\n",
        "print(int(True))"
      ],
      "metadata": {
        "colab": {
          "base_uri": "https://localhost:8080/"
        },
        "id": "2cPVXiIC5pAx",
        "outputId": "71b92cdb-09f1-4e74-f6cf-a9c8694e66e0"
      },
      "execution_count": null,
      "outputs": [
        {
          "output_type": "stream",
          "name": "stdout",
          "text": [
            "<class 'int'>\n",
            "True\n",
            "1\n"
          ]
        }
      ]
    },
    {
      "cell_type": "markdown",
      "source": [
        "## 1.2 tipos de operaciones"
      ],
      "metadata": {
        "id": "Ge4vHy7rgkXC"
      }
    },
    {
      "cell_type": "code",
      "source": [
        "  ## multiplicacion\n",
        "print(1*33)\n",
        "  ## suma \n",
        "print(1+33)\n",
        "  ## resta\n",
        "print(1-33)\n",
        "  ## division\n",
        "print(20/3)\n",
        "print(20//3) ## sirve para generar algoritmos"
      ],
      "metadata": {
        "colab": {
          "base_uri": "https://localhost:8080/"
        },
        "id": "g78OXSlGAsk6",
        "outputId": "da07b3e1-3460-4ef6-8f1d-e77424de88ed"
      },
      "execution_count": null,
      "outputs": [
        {
          "output_type": "stream",
          "name": "stdout",
          "text": [
            "33\n",
            "34\n",
            "-32\n",
            "6.666666666666667\n",
            "6\n"
          ]
        }
      ]
    },
    {
      "cell_type": "markdown",
      "source": [
        "## 1.1 Strings\n"
      ],
      "metadata": {
        "id": "on4KNTbiOZjE"
      }
    },
    {
      "cell_type": "code",
      "source": [
        "## Strings\n",
        "## Metodos\n",
        "  ## como las cadenas son secuencias pueden aplicarse métodos de listas y tuplas \n",
        "  ## pero adicionalmente tienen otro **grupo de métodos**\n",
        "\n",
        "### union de variables \n",
        "print(\"gato\" * 3)\n",
        "print(\"perro gato\" + \"comen comida\")\n",
        "mascotas = \"perro gato \"\n",
        "print( mascotas + \"comen comida con otros perros\")\n",
        "\n",
        "#### indexación de strings\n",
        "Numbers = \"012345\"\n",
        "print(Numbers[:5]) ## imprime los numeros dentro del rango, inclido el final\n",
        "print(Numbers[-1]) ## toma el ultimo elemento\n",
        "print(Numbers[1:2]) ## acota la toma de elementos\n",
        "print(Numbers[1:2])\n",
        "print(Numbers[::2])\n",
        "## restricciones determinar hasta que posicion toma informacion y luego cada 3 palabras\n",
        "print(Numbers[:4:3]) \n",
        "\n",
        "\n",
        "### se le conoce como un final: \\\n",
        "print(\"perros y gatos \\con dedos\") ## se mantiene como un fin \n",
        "print(\"perros y gatos \\\\d\")\n",
        "print(\"perros y gatos\\ncon dedos\")\n",
        "print(r\"perros y gatos \\\\d\") ## conserva un solo \\\n",
        "print(\"perros y gatos \\tcon dedos\")\n",
        "\n",
        "###### metodos específicos para strings ########\n",
        "nombre = \"Jhonathan\"\n",
        "print(nombre.find(\"t\")) # no admite listas para buscar elementos\n",
        "print(nombre.find(\"th\")) # arroja el valor donde se encuentra la primera letra en busqueda\n",
        "print(nombre.upper())\n",
        "print(nombre.replace(\"J\", \"X\"))\n",
        "print(len(nombre))"
      ],
      "metadata": {
        "colab": {
          "base_uri": "https://localhost:8080/"
        },
        "id": "X2SDLYBSE_im",
        "outputId": "f11008bb-123d-425c-8092-667c27c5c121"
      },
      "execution_count": null,
      "outputs": [
        {
          "output_type": "stream",
          "name": "stdout",
          "text": [
            "gatogatogato\n",
            "perro gatocomen comida\n",
            "perro gato comen comida con otros perros\n",
            "01234\n",
            "5\n",
            "1\n",
            "1\n",
            "024\n",
            "03\n",
            "perros y gatos \\ con dedos\n",
            "perros y gatos \\d\n",
            "perros y gatos\n",
            "con dedos\n",
            "perros y gatos \\\\d\n",
            "perros y gatos \tcon dedos\n",
            "5\n",
            "5\n",
            "JHONATHAN\n",
            "Xhonathan\n",
            "9\n"
          ]
        }
      ]
    },
    {
      "cell_type": "markdown",
      "source": [
        "# **Modulo 2**\n",
        "\n",
        "\n",
        "\n",
        "1.   Tuplas\n",
        "2.   Listas\n",
        "3.   Sets\n",
        "4.   Dictionaries"
      ],
      "metadata": {
        "id": "CAmmWXr3BVt9"
      }
    },
    {
      "cell_type": "markdown",
      "source": [
        "## 2.1. Tuplas"
      ],
      "metadata": {
        "id": "5YhGrn7HgMvB"
      }
    },
    {
      "cell_type": "code",
      "source": [
        "# son elementos que no pueden ser modificados \n",
        "print((\"disco\", 10, 1.2))\n",
        "print((\"disco\", 10, 1.2) + (\"a\", \"c\"))\n",
        "print((\"disco\", 10, 1.2)[2]) #puedo ingresar por indexacion de forma directa\n",
        "print((\"disco\", 10, 1.2)[-2]) # existe indexacion inversa\n",
        "print((\"disco\", 10, 1.2)[1:3]) \n",
        "\n",
        "# las tuplas pueden contener otros elementos complejos o simples\n",
        "NT = (1, 2, (\"pop\", \"rock\"), (3,4), (\"disco\", (1,2)))\n",
        "print(NT[2]) # podemos considerarlo como si fueran arboles\n",
        "print(NT[2][1])\n",
        "print(NT[2][1][3])\n"
      ],
      "metadata": {
        "colab": {
          "base_uri": "https://localhost:8080/"
        },
        "id": "8TL4eLijiQNh",
        "outputId": "8104e5fd-5f9d-4cb3-ad86-5cb14e71c245"
      },
      "execution_count": null,
      "outputs": [
        {
          "output_type": "stream",
          "name": "stdout",
          "text": [
            "('disco', 10, 1.2)\n",
            "('disco', 10, 1.2, 'a', 'c')\n",
            "1.2\n",
            "10\n",
            "(10, 1.2)\n",
            "('pop', 'rock')\n",
            "rock\n",
            "k\n"
          ]
        }
      ]
    },
    {
      "cell_type": "markdown",
      "source": [
        "## 2.2. Listas"
      ],
      "metadata": {
        "id": "Cini47gNgrye"
      }
    },
    {
      "cell_type": "code",
      "source": [
        "L = [\"Michale Jackson\", 10.1, 1982] # puede contener elemenos\n",
        "print(L)\n",
        "print(L[0])\n",
        "print(L[0:2])\n",
        "print(L[0][1])\n",
        "print(L + [\"gatos\"]) ## podemos aumentar elementos con suma\n",
        "print(L + [(55)]) ## si introducimos una tupla en una lista con un solo elemento solo se incluye ese elemento\n",
        "print(L + [(\"gatos\", \"caballo\")]) ## se unen ya como tupla mas de un elemento\n",
        "L.extend([\"pop\", 102]) ## aumenta la lista pero con los elementos pasados\n",
        "print(L)\n",
        "L.append([\"pop\", 102])\n",
        "print(L)\n",
        "L[0] = 1\n",
        "print(L)\n",
        "del(L[0]) ## Eliminar elementos\n",
        "print(L)\n",
        "resultado = \"perro con gatos\".split() # convertir un character en una lista\n",
        "print(resultado)"
      ],
      "metadata": {
        "colab": {
          "base_uri": "https://localhost:8080/"
        },
        "id": "53MzBbCuiP46",
        "outputId": "07e86675-14bd-4206-87ab-83656fcfae8d"
      },
      "execution_count": null,
      "outputs": [
        {
          "output_type": "stream",
          "name": "stdout",
          "text": [
            "['Michale Jackson', 10.1, 1982]\n",
            "Michale Jackson\n",
            "['Michale Jackson', 10.1]\n",
            "i\n",
            "['Michale Jackson', 10.1, 1982, 'gatos']\n",
            "['Michale Jackson', 10.1, 1982, 55]\n",
            "['Michale Jackson', 10.1, 1982, ('gatos', 'caballo')]\n",
            "['Michale Jackson', 10.1, 1982, 'pop', 102]\n",
            "['Michale Jackson', 10.1, 1982, 'pop', 102, ['pop', 102]]\n",
            "[1, 10.1, 1982, 'pop', 102, ['pop', 102]]\n",
            "[10.1, 1982, 'pop', 102, ['pop', 102]]\n",
            "['perro', 'con', 'gatos']\n"
          ]
        }
      ]
    },
    {
      "cell_type": "code",
      "source": [
        "## existen herencias cuando una variable toma los valores d euna inicial\n",
        "### en este caso si A es igual a B, entonces, si cambia algo de A esto pasará \n",
        "### en B\n",
        "A = [\"hard rock\", 10, 1.2]\n",
        "B = A\n",
        "print(A,B)"
      ],
      "metadata": {
        "colab": {
          "base_uri": "https://localhost:8080/"
        },
        "id": "0RXrpIZUsk_4",
        "outputId": "61f5a435-a5f2-478c-8c73-5e4c2909db66"
      },
      "execution_count": null,
      "outputs": [
        {
          "output_type": "stream",
          "name": "stdout",
          "text": [
            "['hard rock', 10, 1.2] ['hard rock', 10, 1.2]\n"
          ]
        }
      ]
    },
    {
      "cell_type": "code",
      "source": [
        "A[0] = \"banana\"\n",
        "print(A,B)"
      ],
      "metadata": {
        "colab": {
          "base_uri": "https://localhost:8080/"
        },
        "id": "4dMCVlHzvd1p",
        "outputId": "cab6d194-c094-4bf0-8836-be8445a083a7"
      },
      "execution_count": null,
      "outputs": [
        {
          "output_type": "stream",
          "name": "stdout",
          "text": [
            "['banana', 10, 1.2] ['banana', 10, 1.2]\n"
          ]
        }
      ]
    },
    {
      "cell_type": "code",
      "source": [
        "## Lo anterior no sucederá si se realiza una clonacion de la lista\n",
        "A = [\"hard rock\", 10, 1.2]\n",
        "B = A[:] # clonacion\n",
        "print(A,B)"
      ],
      "metadata": {
        "colab": {
          "base_uri": "https://localhost:8080/"
        },
        "id": "-kIf052qvx4H",
        "outputId": "687d049d-9d9f-4286-bf83-49d65e620225"
      },
      "execution_count": null,
      "outputs": [
        {
          "output_type": "stream",
          "name": "stdout",
          "text": [
            "['hard rock', 10, 1.2] ['hard rock', 10, 1.2]\n"
          ]
        }
      ]
    },
    {
      "cell_type": "code",
      "source": [
        "A[0] = \"banana\"\n",
        "print(A,B)"
      ],
      "metadata": {
        "colab": {
          "base_uri": "https://localhost:8080/"
        },
        "id": "F7aJKW_1v1Sb",
        "outputId": "6f4ce145-1d32-435d-a3be-e636c70d2e6c"
      },
      "execution_count": null,
      "outputs": [
        {
          "output_type": "stream",
          "name": "stdout",
          "text": [
            "['banana', 10, 1.2] ['hard rock', 10, 1.2]\n"
          ]
        }
      ]
    },
    {
      "cell_type": "code",
      "source": [
        "help(A)"
      ],
      "metadata": {
        "colab": {
          "base_uri": "https://localhost:8080/"
        },
        "id": "NSzcW2_vv40J",
        "outputId": "725de3f5-5ebd-482d-ca85-5ba427b6a504"
      },
      "execution_count": null,
      "outputs": [
        {
          "output_type": "stream",
          "name": "stdout",
          "text": [
            "Help on list object:\n",
            "\n",
            "class list(object)\n",
            " |  list(iterable=(), /)\n",
            " |  \n",
            " |  Built-in mutable sequence.\n",
            " |  \n",
            " |  If no argument is given, the constructor creates a new empty list.\n",
            " |  The argument must be an iterable if specified.\n",
            " |  \n",
            " |  Methods defined here:\n",
            " |  \n",
            " |  __add__(self, value, /)\n",
            " |      Return self+value.\n",
            " |  \n",
            " |  __contains__(self, key, /)\n",
            " |      Return key in self.\n",
            " |  \n",
            " |  __delitem__(self, key, /)\n",
            " |      Delete self[key].\n",
            " |  \n",
            " |  __eq__(self, value, /)\n",
            " |      Return self==value.\n",
            " |  \n",
            " |  __ge__(self, value, /)\n",
            " |      Return self>=value.\n",
            " |  \n",
            " |  __getattribute__(self, name, /)\n",
            " |      Return getattr(self, name).\n",
            " |  \n",
            " |  __getitem__(...)\n",
            " |      x.__getitem__(y) <==> x[y]\n",
            " |  \n",
            " |  __gt__(self, value, /)\n",
            " |      Return self>value.\n",
            " |  \n",
            " |  __iadd__(self, value, /)\n",
            " |      Implement self+=value.\n",
            " |  \n",
            " |  __imul__(self, value, /)\n",
            " |      Implement self*=value.\n",
            " |  \n",
            " |  __init__(self, /, *args, **kwargs)\n",
            " |      Initialize self.  See help(type(self)) for accurate signature.\n",
            " |  \n",
            " |  __iter__(self, /)\n",
            " |      Implement iter(self).\n",
            " |  \n",
            " |  __le__(self, value, /)\n",
            " |      Return self<=value.\n",
            " |  \n",
            " |  __len__(self, /)\n",
            " |      Return len(self).\n",
            " |  \n",
            " |  __lt__(self, value, /)\n",
            " |      Return self<value.\n",
            " |  \n",
            " |  __mul__(self, value, /)\n",
            " |      Return self*value.\n",
            " |  \n",
            " |  __ne__(self, value, /)\n",
            " |      Return self!=value.\n",
            " |  \n",
            " |  __repr__(self, /)\n",
            " |      Return repr(self).\n",
            " |  \n",
            " |  __reversed__(self, /)\n",
            " |      Return a reverse iterator over the list.\n",
            " |  \n",
            " |  __rmul__(self, value, /)\n",
            " |      Return value*self.\n",
            " |  \n",
            " |  __setitem__(self, key, value, /)\n",
            " |      Set self[key] to value.\n",
            " |  \n",
            " |  __sizeof__(self, /)\n",
            " |      Return the size of the list in memory, in bytes.\n",
            " |  \n",
            " |  append(self, object, /)\n",
            " |      Append object to the end of the list.\n",
            " |  \n",
            " |  clear(self, /)\n",
            " |      Remove all items from list.\n",
            " |  \n",
            " |  copy(self, /)\n",
            " |      Return a shallow copy of the list.\n",
            " |  \n",
            " |  count(self, value, /)\n",
            " |      Return number of occurrences of value.\n",
            " |  \n",
            " |  extend(self, iterable, /)\n",
            " |      Extend list by appending elements from the iterable.\n",
            " |  \n",
            " |  index(self, value, start=0, stop=9223372036854775807, /)\n",
            " |      Return first index of value.\n",
            " |      \n",
            " |      Raises ValueError if the value is not present.\n",
            " |  \n",
            " |  insert(self, index, object, /)\n",
            " |      Insert object before index.\n",
            " |  \n",
            " |  pop(self, index=-1, /)\n",
            " |      Remove and return item at index (default last).\n",
            " |      \n",
            " |      Raises IndexError if list is empty or index is out of range.\n",
            " |  \n",
            " |  remove(self, value, /)\n",
            " |      Remove first occurrence of value.\n",
            " |      \n",
            " |      Raises ValueError if the value is not present.\n",
            " |  \n",
            " |  reverse(self, /)\n",
            " |      Reverse *IN PLACE*.\n",
            " |  \n",
            " |  sort(self, /, *, key=None, reverse=False)\n",
            " |      Stable sort *IN PLACE*.\n",
            " |  \n",
            " |  ----------------------------------------------------------------------\n",
            " |  Static methods defined here:\n",
            " |  \n",
            " |  __new__(*args, **kwargs) from builtins.type\n",
            " |      Create and return a new object.  See help(type) for accurate signature.\n",
            " |  \n",
            " |  ----------------------------------------------------------------------\n",
            " |  Data and other attributes defined here:\n",
            " |  \n",
            " |  __hash__ = None\n",
            "\n"
          ]
        }
      ]
    },
    {
      "cell_type": "code",
      "source": [
        "A=(0,1,2,3)"
      ],
      "metadata": {
        "id": "E6HRxkyBw-Y4"
      },
      "execution_count": null,
      "outputs": []
    },
    {
      "cell_type": "markdown",
      "source": [
        "## 2.3 Sets"
      ],
      "metadata": {
        "id": "rA90JNExmsop"
      }
    },
    {
      "cell_type": "code",
      "source": [
        "## a diferencia de las list y las tuplas, estas no mantienen el orden\n",
        "SetExample = {\"Triller\", \"rock and roll\", \"salsa\", \"amigos\", \"gato\", \"salsa\", \"Triller\"}\n",
        "print(SetExample) ## se resumen las palabras repetidas\n",
        "SetExample.add(\"NSYNC\")\n",
        "print(SetExample)\n",
        "SetExample.remove(\"NSYNC\")\n",
        "print(SetExample)\n",
        "print(\"Who\" in SetExample) # buscar si pertenece a ese elemento  "
      ],
      "metadata": {
        "colab": {
          "base_uri": "https://localhost:8080/"
        },
        "id": "bDgRQJVjgMHK",
        "outputId": "95140273-2106-4b8f-8f44-79f480c7fe0e"
      },
      "execution_count": null,
      "outputs": [
        {
          "output_type": "stream",
          "name": "stdout",
          "text": [
            "{'salsa', 'gato', 'amigos', 'rock and roll', 'Triller'}\n",
            "{'salsa', 'gato', 'amigos', 'rock and roll', 'NSYNC', 'Triller'}\n",
            "{'salsa', 'gato', 'amigos', 'rock and roll', 'Triller'}\n",
            "False\n"
          ]
        }
      ]
    },
    {
      "cell_type": "code",
      "source": [
        "## operaciones logico matemático\n",
        "set_1 = {1,2,3,4,5,90,66,23,356,76,32}\n",
        "set_2 = {66,32,56,90}\n",
        "set_3 = {66,32}\n",
        "  ## interseccion de sets\n",
        "print(set_1 & set_2) # devuelve los resultados de intersección de los datos\n",
        "print(set_1.intersection(set_2)) \n",
        "  ## union de sets\n",
        "print(set_1.union(set_2)) ## mezcla los elementos una zola vez si es no existe repetidos\n",
        "  ## verificar si existen elementos de un set en otro\n",
        "print(set_3.issubset(set_1))\n",
        "print(set_3.issubset(set_2))\n",
        "\n",
        "print(set_3.issuperset(set_1))\n",
        "print(set_3.issuperset(set_2))\n",
        "print(set_1.issuperset(set_3))\n",
        "\n",
        "print(set_2.difference(set_3))\n",
        "print(set_3.difference(set_2)) ## estan contenidos todos"
      ],
      "metadata": {
        "colab": {
          "base_uri": "https://localhost:8080/"
        },
        "id": "mtup-mE_2MNm",
        "outputId": "2a39f5be-08bd-47b3-97d6-996f1f850564"
      },
      "execution_count": null,
      "outputs": [
        {
          "output_type": "stream",
          "name": "stdout",
          "text": [
            "{32, 66, 90}\n",
            "{32, 66, 90}\n",
            "{32, 1, 2, 3, 4, 5, 66, 356, 76, 23, 56, 90}\n",
            "True\n",
            "True\n",
            "False\n",
            "False\n",
            "True\n",
            "{56, 90}\n",
            "set()\n"
          ]
        }
      ]
    },
    {
      "cell_type": "markdown",
      "source": [
        "## 2.4. Dictionaries\n"
      ],
      "metadata": {
        "id": "E2byaoQDgwBV"
      }
    },
    {
      "cell_type": "code",
      "source": [
        "# contienens keys and values\n",
        "tabla = {\"key1\":1, \"key2\":\"1\", \"key3\":[1,46,23], \"key4\":(675,7,21), \"key5\":4}\n",
        "print(tabla)\n",
        "print(tabla.keys())\n",
        "print(tabla.values())\n",
        "print(tabla[\"key1\"])\n",
        "print(tabla[\"key3\"])\n",
        "tabla[\"key6\"] = \"hola mundo\" # incluir un nuevo elemento\n",
        "print(tabla)\n",
        "# tabla = del(tabla[\"key1\"])\n",
        "print(\"key2\" in tabla)\n",
        "print(\"1\" in tabla)"
      ],
      "metadata": {
        "colab": {
          "base_uri": "https://localhost:8080/"
        },
        "id": "whn3cEq-7tnW",
        "outputId": "a96c32e0-94b8-44be-8281-c4d45e712075"
      },
      "execution_count": null,
      "outputs": [
        {
          "output_type": "stream",
          "name": "stdout",
          "text": [
            "{'key1': 1, 'key2': '1', 'key3': [1, 46, 23], 'key4': (675, 7, 21), 'key5': 4}\n",
            "dict_keys(['key1', 'key2', 'key3', 'key4', 'key5'])\n",
            "dict_values([1, '1', [1, 46, 23], (675, 7, 21), 4])\n",
            "1\n",
            "[1, 46, 23]\n",
            "{'key1': 1, 'key2': '1', 'key3': [1, 46, 23], 'key4': (675, 7, 21), 'key5': 4, 'key6': 'hola mundo'}\n",
            "True\n",
            "False\n"
          ]
        }
      ]
    },
    {
      "cell_type": "code",
      "source": [
        "Dict = {\"key1\": 1, \"key2\": \"2\", \"key3\": [3, 3, 3], \"key4\": (4, 4, 4), ('key5'): 5, (0, 1): 6}\n",
        "Dict ## puede ser una tupla una key"
      ],
      "metadata": {
        "colab": {
          "base_uri": "https://localhost:8080/"
        },
        "id": "ev8HZ_zTCwFt",
        "outputId": "a87a22e0-a482-43c4-8c17-eb18a9591480"
      },
      "execution_count": null,
      "outputs": [
        {
          "output_type": "execute_result",
          "data": {
            "text/plain": [
              "{'key1': 1,\n",
              " 'key2': '2',\n",
              " 'key3': [3, 3, 3],\n",
              " 'key4': (4, 4, 4),\n",
              " 'key5': 5,\n",
              " (0, 1): 6}"
            ]
          },
          "metadata": {},
          "execution_count": 167
        }
      ]
    },
    {
      "cell_type": "code",
      "source": [
        "Dict[(0,1)] ## ingreso por la tupla al value"
      ],
      "metadata": {
        "id": "Xy0SM5PJD7eM",
        "outputId": "ecd5020f-2496-437a-9c06-e26e92aa919e",
        "colab": {
          "base_uri": "https://localhost:8080/"
        }
      },
      "execution_count": null,
      "outputs": [
        {
          "output_type": "execute_result",
          "data": {
            "text/plain": [
              "6"
            ]
          },
          "metadata": {},
          "execution_count": 168
        }
      ]
    },
    {
      "cell_type": "markdown",
      "source": [
        "# Modulo 3"
      ],
      "metadata": {
        "id": "7iwiZnS0ozd2"
      }
    },
    {
      "cell_type": "markdown",
      "source": [
        "## 3.1 Conditions and branching"
      ],
      "metadata": {
        "id": "E9aPIPYEo7WU"
      }
    },
    {
      "cell_type": "code",
      "source": [
        "## condicions \n",
        "i = 6 # ><\n",
        "print(i > 2)\n",
        "print(i < 2)\n",
        "print(i != 6)\n",
        "print(\"gato\" == \"perro\")\n",
        "print(\"gato\" != \"perro\")"
      ],
      "metadata": {
        "id": "CldyCZqYpX9G",
        "outputId": "0824f747-d186-472f-bcc9-42b2b39ae2d8",
        "colab": {
          "base_uri": "https://localhost:8080/"
        }
      },
      "execution_count": null,
      "outputs": [
        {
          "output_type": "stream",
          "name": "stdout",
          "text": [
            "True\n",
            "False\n",
            "False\n",
            "False\n",
            "True\n"
          ]
        }
      ]
    },
    {
      "cell_type": "code",
      "source": [
        "## branching \n",
        "  ## nos permite ejecutar varias declaraciones para una entrada diferente\n",
        "i = 17\n",
        "if(i > 18):\n",
        "  print(\"you can enter to concert\")\n",
        "print(\"move on\")\n",
        "\n",
        "i = 19\n",
        "if(i > 18):\n",
        "  print(\"you can enter to concert\")\n",
        "print(\"move on\")\n",
        "\n",
        "i = 19\n",
        "if(i > 18):\n",
        "  print(\"you can enter to concert ACDC\")\n",
        "else:\n",
        "  print(\"go see Meat Loaf\")\n",
        "print(\"move on\")\n",
        "\n",
        "i = 17\n",
        "if(i > 18):\n",
        "  print(\"you can enter to concert ACDC\")\n",
        "else:\n",
        "  print(\"go see Meat Loaf\")\n",
        "print(\"move on\")\n",
        "\n",
        "\n",
        "i = 17\n",
        "if(i > 18):\n",
        "  print(\"you can enter to concert ACDC\")\n",
        "elif(i == 18):\n",
        "  print(\"go see Pink Floyd\")\n",
        "else:\n",
        "  print(\"go see Meat Loaf\")\n",
        "print(\"move on\")\n",
        "\n",
        "\n",
        "i = 18\n",
        "if(i > 18):\n",
        "  print(\"you can enter to concert ACDC\")\n",
        "elif(i == 18):\n",
        "  print(\"go see Pink Floyd\")\n",
        "else:\n",
        "  print(\"go see Meat Loaf\")\n",
        "print(\"move on\")"
      ],
      "metadata": {
        "id": "AJNE8pDFq6GA",
        "outputId": "accf5802-4e40-41f2-eb92-4327dd454a3f",
        "colab": {
          "base_uri": "https://localhost:8080/"
        }
      },
      "execution_count": null,
      "outputs": [
        {
          "output_type": "stream",
          "name": "stdout",
          "text": [
            "move on\n",
            "you can enter to concert\n",
            "move on\n",
            "you can enter to concert ACDC\n",
            "move on\n",
            "go see Meat Loaf\n",
            "move on\n",
            "go see Meat Loaf\n",
            "move on\n",
            "go see Pink Floyd\n",
            "move on\n"
          ]
        }
      ]
    },
    {
      "cell_type": "code",
      "source": [
        "## Logic operators\n",
        "print(not(False))  #><\n",
        "print(not(True))\n",
        " ### si existen dentro de una prueba logica de or un True, este predomina sobre un false\n",
        "album_year = 1990\n",
        "if(album_year < 1980) or (album_year > 1989):\n",
        "  print(\"The Album was made in the 70´s or 90´s\")\n",
        "else:\n",
        "  print(\"The Album was made in the 1980´s\")\n",
        "\n",
        "album_year = 1989\n",
        "if(album_year > 1979) and (album_year < 1990):\n",
        "  print(\"The Album was made in the 80´s\")"
      ],
      "metadata": {
        "id": "sc7srCzHuj95",
        "outputId": "179347db-aff8-4a68-aa76-ce72fd2e5f07",
        "colab": {
          "base_uri": "https://localhost:8080/"
        }
      },
      "execution_count": null,
      "outputs": [
        {
          "output_type": "stream",
          "name": "stdout",
          "text": [
            "True\n",
            "False\n",
            "The Album was made in the 70´s or 90´s\n",
            "The Album was made in the 80´s\n"
          ]
        }
      ]
    },
    {
      "cell_type": "markdown",
      "source": [],
      "metadata": {
        "id": "gLH3MUGZPvns"
      }
    },
    {
      "cell_type": "markdown",
      "source": [
        "## 3.2 **Loops**"
      ],
      "metadata": {
        "id": "aGPpTV3_o7CI"
      }
    },
    {
      "cell_type": "code",
      "source": [
        "## range\n",
        "print(range(3))\n",
        "print(range(10, 13))"
      ],
      "metadata": {
        "id": "WuOMcrvEpYRr",
        "outputId": "c447f2dd-86d5-4808-a742-be298dd0c500",
        "colab": {
          "base_uri": "https://localhost:8080/"
        }
      },
      "execution_count": null,
      "outputs": [
        {
          "output_type": "stream",
          "name": "stdout",
          "text": [
            "range(0, 3)\n",
            "range(10, 13)\n"
          ]
        }
      ]
    },
    {
      "cell_type": "code",
      "source": [
        "## FOR\n",
        "colors = [\"black\", \"blue\", \"red\", \"green\", \"yellow\"]\n",
        "print(colors)\n",
        "for i in range(0,5):\n",
        "  colors[i] = \"white\"\n",
        "print(colors)"
      ],
      "metadata": {
        "id": "pfEZ2nFu7x09",
        "outputId": "d4288786-5d49-48f4-edd6-bed039275db1",
        "colab": {
          "base_uri": "https://localhost:8080/"
        }
      },
      "execution_count": null,
      "outputs": [
        {
          "output_type": "stream",
          "name": "stdout",
          "text": [
            "['black', 'blue', 'red', 'green', 'yellow']\n",
            "['white', 'white', 'white', 'white', 'white']\n"
          ]
        }
      ]
    },
    {
      "cell_type": "code",
      "source": [
        "## FOR wiht -- enumerate\n",
        "colors = [\"black\", \"blue\", \"red\", \"green\", \"yellow\"]\n",
        "print(colors)\n",
        "for i, colorOptions in enumerate(colors):\n",
        "  colors[i] = \"white\"\n",
        "  print(colorOptions)\n",
        "print(colors)"
      ],
      "metadata": {
        "id": "_SHIlHBO8M0j",
        "outputId": "0ffeaf01-ab0e-4340-cc2f-400069a3886e",
        "colab": {
          "base_uri": "https://localhost:8080/"
        }
      },
      "execution_count": null,
      "outputs": [
        {
          "output_type": "stream",
          "name": "stdout",
          "text": [
            "['black', 'blue', 'red', 'green', 'yellow']\n",
            "black\n",
            "blue\n",
            "red\n",
            "green\n",
            "yellow\n",
            "['white', 'white', 'white', 'white', 'white']\n"
          ]
        }
      ]
    },
    {
      "cell_type": "code",
      "source": [
        "## WHILE\n",
        "squares = [\"orange\", \"orange\", \"purple\", \"blue\"]\n",
        "Newsquares = []\n",
        "i = 0\n",
        "while(squares[i] == \"orange\"):\n",
        "  Newsquares.append(squares[i])\n",
        "  i = i+1\n",
        "print(Newsquares)"
      ],
      "metadata": {
        "id": "o9VDOVVC8fSC",
        "outputId": "b216434e-2444-41e6-be9d-2dbd3612bcb3",
        "colab": {
          "base_uri": "https://localhost:8080/"
        }
      },
      "execution_count": null,
      "outputs": [
        {
          "output_type": "stream",
          "name": "stdout",
          "text": [
            "['orange', 'orange']\n"
          ]
        }
      ]
    },
    {
      "cell_type": "markdown",
      "source": [
        "## 3.3 Functions"
      ],
      "metadata": {
        "id": "x-lQ8uNGo64K"
      }
    },
    {
      "cell_type": "code",
      "source": [
        "## \n",
        "album_ratings = [10, 8.5, 9.5, 7, 7, 9.5, 9, 9.5] \n",
        "\n",
        "L = len(album_ratings)\n",
        "print(L)\n",
        "print(sum(album_ratings))\n",
        "\n",
        "print(sorted(album_ratings))"
      ],
      "metadata": {
        "id": "9BLVdAaspYp0",
        "outputId": "545bbd77-a53e-48d5-be7c-a598c57e10cb",
        "colab": {
          "base_uri": "https://localhost:8080/"
        }
      },
      "execution_count": null,
      "outputs": [
        {
          "output_type": "stream",
          "name": "stdout",
          "text": [
            "8\n",
            "70.0\n",
            "[7, 7, 8.5, 9, 9.5, 9.5, 9.5, 10]\n"
          ]
        }
      ]
    },
    {
      "cell_type": "code",
      "source": [
        "album_ratings.sort()\n",
        "print(album_ratings)"
      ],
      "metadata": {
        "id": "-He91iyZDIx2",
        "outputId": "304d0a24-1c99-4717-d830-526228c3fb4a",
        "colab": {
          "base_uri": "https://localhost:8080/"
        }
      },
      "execution_count": null,
      "outputs": [
        {
          "output_type": "stream",
          "name": "stdout",
          "text": [
            "[7, 7, 8.5, 9, 9.5, 9.5, 9.5, 10]\n"
          ]
        }
      ]
    },
    {
      "cell_type": "code",
      "source": [
        "def add1(a):\n",
        "  \"\"\"\n",
        "  add 1 to a documentation string\n",
        "  \"\"\"\n",
        "  b = a+1\n",
        "  return b\n",
        "print(add1(5))\n",
        "print(add1(10))\n",
        "help(add1)"
      ],
      "metadata": {
        "id": "5E4JGgzUDjO8",
        "outputId": "3a71f0ca-1d1c-4ab4-e3dc-bd37d8d7cb16",
        "colab": {
          "base_uri": "https://localhost:8080/"
        }
      },
      "execution_count": null,
      "outputs": [
        {
          "output_type": "stream",
          "name": "stdout",
          "text": [
            "6\n",
            "11\n",
            "Help on function add1 in module __main__:\n",
            "\n",
            "add1(a)\n",
            "    add 1 to a documentation string\n",
            "\n"
          ]
        }
      ]
    },
    {
      "cell_type": "code",
      "source": [
        "## funcion de impresion \n",
        "def MJ():\n",
        "   print(\"MK\")\n",
        "print(MJ())\n",
        "\n",
        "## funcion sin cuerpo\n",
        "def NoWork():\n",
        "  pass ## key word, permite tener una función sin cuerpo y retornará none\n",
        "print(NoWork)"
      ],
      "metadata": {
        "id": "kKBu2zSfEikK",
        "outputId": "798337a1-0107-4969-911d-a0fe64e35164",
        "colab": {
          "base_uri": "https://localhost:8080/"
        }
      },
      "execution_count": null,
      "outputs": [
        {
          "output_type": "stream",
          "name": "stdout",
          "text": [
            "MK\n",
            "None\n"
          ]
        }
      ]
    },
    {
      "cell_type": "code",
      "source": [
        "def add1(a):\n",
        "  b = a + 1\n",
        "  print(a, \"plus 1 equals\", b) ## impresion \n",
        "  return b ## resultado a almacenar\n",
        "\n",
        "add1(2)"
      ],
      "metadata": {
        "id": "GJUykmfUGnsQ",
        "outputId": "9d7c8097-5819-46a8-80d6-955c9c723236",
        "colab": {
          "base_uri": "https://localhost:8080/"
        }
      },
      "execution_count": null,
      "outputs": [
        {
          "output_type": "stream",
          "name": "stdout",
          "text": [
            "2 plus 1 equals 3\n"
          ]
        },
        {
          "output_type": "execute_result",
          "data": {
            "text/plain": [
              "3"
            ]
          },
          "metadata": {},
          "execution_count": 54
        }
      ]
    },
    {
      "cell_type": "code",
      "source": [
        "def printStuff(Stuff):\n",
        "  for i,s in enumerate(Stuff):\n",
        "    print(\"Album\", i, \"Rating is\", s)\n",
        "\n",
        "album_ratings = [10, 8.5, 9.5, 7, 7, 9.5, 9, 9.5] \n",
        "printStuff(album_ratings)"
      ],
      "metadata": {
        "id": "EJxgI_S7HbdA",
        "outputId": "65a743db-3ba8-4285-9c78-8857c613060c",
        "colab": {
          "base_uri": "https://localhost:8080/"
        }
      },
      "execution_count": null,
      "outputs": [
        {
          "output_type": "stream",
          "name": "stdout",
          "text": [
            "Album 0 Rating is 10\n",
            "Album 1 Rating is 8.5\n",
            "Album 2 Rating is 9.5\n",
            "Album 3 Rating is 7\n",
            "Album 4 Rating is 7\n",
            "Album 5 Rating is 9.5\n",
            "Album 6 Rating is 9\n",
            "Album 7 Rating is 9.5\n"
          ]
        }
      ]
    },
    {
      "cell_type": "code",
      "source": [
        "## coleccion de argumentos\n",
        "def ArtistNames(*names):\n",
        "\n",
        "  for name in names:\n",
        "    print(name)\n",
        "\n",
        "ArtistNames(\"gato\", \"perro\", \"vaca\")"
      ],
      "metadata": {
        "id": "pXyzvktwIo8G",
        "outputId": "0e9d10cd-e8ec-4811-bc2c-8bbcf4149c4e",
        "colab": {
          "base_uri": "https://localhost:8080/"
        }
      },
      "execution_count": null,
      "outputs": [
        {
          "output_type": "stream",
          "name": "stdout",
          "text": [
            "gato\n",
            "perro\n",
            "vaca\n"
          ]
        }
      ]
    },
    {
      "cell_type": "code",
      "source": [
        "# global scope\n",
        "def ACDC(y):\n",
        "  print(Rating)\n",
        "  return(Rating+y)\n",
        "\n",
        "Rating = 9\n",
        "# si no se le da los argumentos a la funcion y encuentra\n",
        "# este en el entorno global, utilizará este valor dentro del entorno local\n",
        "Z = ACDC(1)\n",
        "print(Z)\n",
        "print(Rating)"
      ],
      "metadata": {
        "id": "0Yv6Br4JJPXv",
        "outputId": "1abe326d-fdef-4fa2-f87a-96e22098232a",
        "colab": {
          "base_uri": "https://localhost:8080/"
        }
      },
      "execution_count": null,
      "outputs": [
        {
          "output_type": "stream",
          "name": "stdout",
          "text": [
            "9\n",
            "10\n",
            "9\n"
          ]
        }
      ]
    },
    {
      "cell_type": "code",
      "source": [
        "### declarar variables globales\n",
        "def PinkFloyd():\n",
        "  global ClaimedSales\n",
        "  ClaimedSales = \"45 millon\"\n",
        "  return ClaimedSales\n",
        "\n",
        "print(PinkFloyd())\n",
        "print(ClaimedSales)"
      ],
      "metadata": {
        "id": "S65AzAuXMk-d",
        "outputId": "80b8dbcd-aed3-4009-a607-7d81510c981d",
        "colab": {
          "base_uri": "https://localhost:8080/"
        }
      },
      "execution_count": null,
      "outputs": [
        {
          "output_type": "stream",
          "name": "stdout",
          "text": [
            "45 millon\n",
            "45 millon\n"
          ]
        }
      ]
    },
    {
      "cell_type": "code",
      "source": [
        "# Function example\n",
        "\n",
        "def type_of_album(artist, album, year_released):\n",
        "    \n",
        "    print(artist, album, year_released)\n",
        "    if year_released > 1980:\n",
        "        return \"Modern\"\n",
        "    else:\n",
        "        return \"Oldie\"\n",
        "    \n",
        "x = type_of_album(\"Michael Jackson\", \"Thriller\", 1980)\n",
        "print(x)"
      ],
      "metadata": {
        "id": "_ynikPYLOPAo",
        "outputId": "41de308c-5536-48bb-b259-0201daf6c9d5",
        "colab": {
          "base_uri": "https://localhost:8080/"
        }
      },
      "execution_count": null,
      "outputs": [
        {
          "output_type": "stream",
          "name": "stdout",
          "text": [
            "Michael Jackson Thriller 1980\n",
            "Oldie\n"
          ]
        }
      ]
    },
    {
      "cell_type": "markdown",
      "source": [
        "## 3.4 Objects and Classes"
      ],
      "metadata": {
        "id": "rrV1jyTopK5C"
      }
    },
    {
      "cell_type": "markdown",
      "source": [
        "\n",
        "### Tipos de datos\n",
        "\n",
        "1.   int: 1, 3, 523\n",
        "2.   float: 1.2, 412.1\n",
        "3.   string: \"a\", \"asdga\"\n",
        "4.   list: [1, 2, \"abas\"]\n",
        "5.   dictionary: {\"doc\":1, \"cat\":2}\n",
        "6.   bool: False, True\n",
        "\n",
        "En python todos son objetos, y cada uno de estos tienen:\n",
        "\n",
        "*   un tipo\n",
        "*   una representación interna\n",
        "*   un conjunto de funciones llamadas métodos para interactura con los datos\n",
        "\n",
        "Tambien cada objeto tienen instancias de un tipo particular:\n",
        "\n",
        "*   Tipo 1\n",
        "*   Tipo 2 \n",
        "\n",
        "cada vez que creamos un int, estamos creando una instacia de tipo entero o estamso creando un objeto entero\n",
        "\n",
        "\n"
      ],
      "metadata": {
        "id": "Mph1WiDUO-dt"
      }
    },
    {
      "cell_type": "code",
      "source": [
        "## creamos una lista \n",
        "album_ratings = [10, 8.5, 9.5, 7, 7, 9.5, 9, 9.5] \n",
        "# ahora la ordenamos con una funcion o metodo propia de la instancia \n",
        "album_ratings.sort()\n",
        "print(album_ratings)\n",
        "album_ratings.reverse()\n",
        "print(album_ratings)"
      ],
      "metadata": {
        "id": "4NYir1-Ooylv",
        "outputId": "8fb848eb-180b-47e6-e4ea-e8368465da3b",
        "colab": {
          "base_uri": "https://localhost:8080/"
        }
      },
      "execution_count": null,
      "outputs": [
        {
          "output_type": "stream",
          "name": "stdout",
          "text": [
            "[7, 7, 8.5, 9, 9.5, 9.5, 9.5, 10]\n",
            "[10, 9.5, 9.5, 9.5, 9, 8.5, 7, 7]\n"
          ]
        }
      ]
    },
    {
      "cell_type": "markdown",
      "source": [
        "## crear nuestras propias clases\n",
        "las clases tienen: \n",
        "\n",
        "*   Data attributes\n",
        "*   Methods\n",
        "\n",
        "A partir de los métodos podemos y atributos de los datos podemos obtener objetos o instancias de la clase. \n",
        "\n",
        "En este caso se hará un circulo y rectangulo.\n",
        "\n"
      ],
      "metadata": {
        "id": "MSduKFUhVuzj"
      }
    },
    {
      "cell_type": "code",
      "source": [
        "# class circle\n",
        "  ## conceptos necesarios: radius y color >> Data Attributes: radius y color: red\n",
        "class Circle(object): # object es el padre de la clase # definimos nuestra clase \n",
        "  # ahora inicializamos cada instancia de la clase# atributos\n",
        "  def __init__(self, radius, color): # sirve como constructor ## es una funcion especial de python y nos dice que eres\n",
        "    self.radius = 3;\n",
        "    self.color = color;\n",
        "  #def add_radius(self,r)\n",
        "  #  self.radius = self.radius + r\n",
        "  # methods\n",
        "  def add_radius(self, r):\n",
        "    self.radius = self.radius + r\n",
        "\n",
        "c1 = Circle(10, 'red')\n",
        "print(c1.radius)\n",
        "print(c1.color)\n",
        "c1.add_radius(2)\n",
        "print(c1.radius)\n",
        "print(c1.color)"
      ],
      "metadata": {
        "id": "JScs915vVUQB",
        "colab": {
          "base_uri": "https://localhost:8080/"
        },
        "outputId": "3622b214-a420-4dc7-ca62-b43437722a88"
      },
      "execution_count": null,
      "outputs": [
        {
          "output_type": "stream",
          "name": "stdout",
          "text": [
            "3\n",
            "red\n",
            "5\n",
            "red\n"
          ]
        }
      ]
    },
    {
      "cell_type": "code",
      "source": [
        "dir(Circle)"
      ],
      "metadata": {
        "id": "hN7hFjSphVFK",
        "outputId": "7f613c23-0c58-431d-a671-879c107ec4b0",
        "colab": {
          "base_uri": "https://localhost:8080/"
        }
      },
      "execution_count": null,
      "outputs": [
        {
          "output_type": "execute_result",
          "data": {
            "text/plain": [
              "['__class__',\n",
              " '__delattr__',\n",
              " '__dict__',\n",
              " '__dir__',\n",
              " '__doc__',\n",
              " '__eq__',\n",
              " '__format__',\n",
              " '__ge__',\n",
              " '__getattribute__',\n",
              " '__gt__',\n",
              " '__hash__',\n",
              " '__init__',\n",
              " '__init_subclass__',\n",
              " '__le__',\n",
              " '__lt__',\n",
              " '__module__',\n",
              " '__ne__',\n",
              " '__new__',\n",
              " '__reduce__',\n",
              " '__reduce_ex__',\n",
              " '__repr__',\n",
              " '__setattr__',\n",
              " '__sizeof__',\n",
              " '__str__',\n",
              " '__subclasshook__',\n",
              " '__weakref__',\n",
              " 'add_radius']"
            ]
          },
          "metadata": {},
          "execution_count": 36
        }
      ]
    },
    {
      "cell_type": "markdown",
      "source": [
        "# Modulo 4\n",
        "\n",
        "Hola Juan Miguel, realice algunos laboratorios dentro de mis apuntes, finalmente, hice unos cuantos más en la parte final, podría decirce los restantes."
      ],
      "metadata": {
        "id": "EoobE_4iz6BR"
      }
    },
    {
      "cell_type": "markdown",
      "source": [
        "## 4.1 Carga de datos con Open"
      ],
      "metadata": {
        "id": "rlxT9P6wz8dJ"
      }
    },
    {
      "cell_type": "code",
      "source": [
        "!ls\n",
        "## creo on documento .txt para practicar el ejercicio"
      ],
      "metadata": {
        "id": "LzZ-pYax7Pmz",
        "outputId": "59847a8c-ed90-41e3-82a5-82f0c788736d",
        "colab": {
          "base_uri": "https://localhost:8080/"
        }
      },
      "execution_count": null,
      "outputs": [
        {
          "output_type": "stream",
          "name": "stdout",
          "text": [
            "ejemplo.csv  Example1.txt  sample_data\n"
          ]
        }
      ]
    },
    {
      "cell_type": "code",
      "source": [
        "file1 = open('Example1.txt', 'r')\n",
        "print(file1.name) ## obtenemos el nombre del archivo\n",
        "print(file1.mode) ## obtenemos que modo de open hemos ocupado\n",
        "file1_content = file1.read() ## elemos el documento\n",
        "print(file1_content)\n",
        "file1.close() # cerramos el documento\n",
        "## esta no es la mejor manera de trabar con open"
      ],
      "metadata": {
        "colab": {
          "base_uri": "https://localhost:8080/"
        },
        "id": "24eXbIC_6Q4U",
        "outputId": "af5e0935-37a6-4bac-ccc2-4f7627088ab0"
      },
      "execution_count": null,
      "outputs": [
        {
          "output_type": "stream",
          "name": "stdout",
          "text": [
            "Example1.txt\n",
            "r\n",
            "This is line 1 \\nThis is line 2\\nThis is line 3\n"
          ]
        }
      ]
    },
    {
      "cell_type": "code",
      "source": [
        "### correcta manera de cargar con open\n",
        "with open('Example1.txt', 'r') as file1:\n",
        "  fileContent = file1.read()\n",
        "  print(fileContent)\n",
        "file1.close()"
      ],
      "metadata": {
        "colab": {
          "base_uri": "https://localhost:8080/"
        },
        "id": "1ajWtEal6QmM",
        "outputId": "3b486f40-cbbe-4d76-c8d5-3e9e84ce5023"
      },
      "execution_count": null,
      "outputs": [
        {
          "output_type": "stream",
          "name": "stdout",
          "text": [
            "This is line 1 \\nThis is line 2\\nThis is line 3\n"
          ]
        }
      ]
    },
    {
      "cell_type": "code",
      "source": [
        "with open('Example1.txt', 'r') as file1:\n",
        "  print(file1.read(3))\n",
        "  print(file1.read(5))\n",
        "  print(file1.read(7))\n",
        "  print(file1.read(3))\n",
        "file1.close()"
      ],
      "metadata": {
        "colab": {
          "base_uri": "https://localhost:8080/"
        },
        "id": "Pu1V8wlu6QAc",
        "outputId": "cbd44853-12b5-4172-f3b9-13d34b7f22ff"
      },
      "execution_count": null,
      "outputs": [
        {
          "output_type": "stream",
          "name": "stdout",
          "text": [
            "Thi\n",
            "s is \n",
            "line 1 \n",
            "\\nT\n"
          ]
        }
      ]
    },
    {
      "cell_type": "markdown",
      "source": [
        "## 4.2 Escritura de datos con Open"
      ],
      "metadata": {
        "id": "0nN0IcnI6dG6"
      }
    },
    {
      "cell_type": "code",
      "source": [
        "file1 = open(\"escritura.txt\", \"w\")\n",
        "file1"
      ],
      "metadata": {
        "id": "LFGjkPmC6phl",
        "outputId": "82323a8e-2d67-43cd-8859-a7dd5e95f87a",
        "colab": {
          "base_uri": "https://localhost:8080/"
        }
      },
      "execution_count": null,
      "outputs": [
        {
          "output_type": "execute_result",
          "data": {
            "text/plain": [
              "<_io.TextIOWrapper name='escritura.txt' mode='w' encoding='UTF-8'>"
            ]
          },
          "metadata": {},
          "execution_count": 113
        }
      ]
    },
    {
      "cell_type": "code",
      "source": [
        "with open(\"escritura.txt\", \"w\") as file1:\n",
        "  file1.write(\"This is line A\\n\")\n",
        "  file1.write(\"This is line B\\n\")"
      ],
      "metadata": {
        "id": "_JirfXpu6pW2"
      },
      "execution_count": null,
      "outputs": []
    },
    {
      "cell_type": "code",
      "source": [
        "Lines = ['1\\n','2\\n','3\\n','4\\n']"
      ],
      "metadata": {
        "id": "KU41dUOQ-VcC",
        "outputId": "3443c8e6-ba4a-4c90-efcd-9e07e77112e8",
        "colab": {
          "base_uri": "https://localhost:8080/"
        }
      },
      "execution_count": null,
      "outputs": [
        {
          "output_type": "stream",
          "name": "stdout",
          "text": [
            "['1\\n', '2\\n', '3\\n', '4\\n']\n"
          ]
        }
      ]
    },
    {
      "cell_type": "code",
      "source": [
        "with open(\"escritura.txt\", \"w\") as file1: ## leemos los elementos con el for\n",
        "  for line in Lines:\n",
        "    file1.write(line)"
      ],
      "metadata": {
        "id": "bX7SQ9o5-UeT"
      },
      "execution_count": null,
      "outputs": []
    },
    {
      "cell_type": "code",
      "source": [
        "open(\"escritura.txt\", \"a\") # append nuevos datos "
      ],
      "metadata": {
        "id": "uEmtMLDK-17K"
      },
      "execution_count": null,
      "outputs": []
    },
    {
      "cell_type": "code",
      "source": [
        "!ls "
      ],
      "metadata": {
        "id": "M4b00T83-JKE",
        "outputId": "e654f738-d737-4e94-90db-9a65410119a1",
        "colab": {
          "base_uri": "https://localhost:8080/"
        }
      },
      "execution_count": null,
      "outputs": [
        {
          "output_type": "stream",
          "name": "stdout",
          "text": [
            "ejemplo.csv  escritura.txt  Example1.txt  sample_data\n"
          ]
        }
      ]
    },
    {
      "cell_type": "markdown",
      "source": [
        "## 4.3 Carga de datos con pandas"
      ],
      "metadata": {
        "id": "_c-_lXXNz_EJ"
      }
    },
    {
      "cell_type": "code",
      "source": [
        "# import pandas\n",
        "import pandas # cargar sin abreviatura\n",
        "import pandas as pd # cargar con abreviatura\n",
        "# pd.read_csv() # cargar documento csv\n",
        "# pd.read_csv() # cargar documento excel  \n",
        "# df.head() # ver las 5 primeras filas "
      ],
      "metadata": {
        "id": "qMkd_MHi0lxd"
      },
      "execution_count": null,
      "outputs": []
    },
    {
      "cell_type": "code",
      "source": [
        "## Creacion de un DF por medio de un diccionario\n",
        "\n",
        "songs = {'Album': ['a','b','c','d'],\n",
        "         'Year': [1,2,3,4],\n",
        "         'Length': [12,32,54,6]}\n",
        "\n",
        "songs_frame = pd.DataFrame(songs)\n",
        "print(songs_frame) # data frame completo\n",
        "print(songs_frame['Album']) # una columna del data frame \n",
        "print(songs_frame[['Album','Year']]) # una columna del data frame "
      ],
      "metadata": {
        "colab": {
          "base_uri": "https://localhost:8080/"
        },
        "id": "-ip0rrtD1iLI",
        "outputId": "a95014b9-c6b3-4247-8fed-6bcf6f4337d2"
      },
      "execution_count": null,
      "outputs": [
        {
          "output_type": "stream",
          "name": "stdout",
          "text": [
            "  Album  Year  Length\n",
            "0     a     1      12\n",
            "1     b     2      32\n",
            "2     c     3      54\n",
            "3     d     4       6\n",
            "0    a\n",
            "1    b\n",
            "2    c\n",
            "3    d\n",
            "Name: Album, dtype: object\n",
            "  Album  Year\n",
            "0     a     1\n",
            "1     b     2\n",
            "2     c     3\n",
            "3     d     4\n"
          ]
        }
      ]
    },
    {
      "cell_type": "markdown",
      "source": [
        "## 4.4 Trabajar y guardar datos con pandas"
      ],
      "metadata": {
        "id": "UGbnLZeE0JCQ"
      }
    },
    {
      "cell_type": "code",
      "source": [
        "ejemplo = {'a':[1,1,1,1,3,4,5,6,6,6,4,2,674,345653,2145,234,6]}\n",
        "ejemplo = pd.DataFrame(ejemplo)\n",
        "ejemplo"
      ],
      "metadata": {
        "colab": {
          "base_uri": "https://localhost:8080/",
          "height": 582
        },
        "id": "pEVU1qiaz5NJ",
        "outputId": "fe664ce9-2a98-4c4f-b610-b44d8d7dd784"
      },
      "execution_count": null,
      "outputs": [
        {
          "output_type": "execute_result",
          "data": {
            "text/plain": [
              "         a\n",
              "0        1\n",
              "1        1\n",
              "2        1\n",
              "3        1\n",
              "4        3\n",
              "5        4\n",
              "6        5\n",
              "7        6\n",
              "8        6\n",
              "9        6\n",
              "10       4\n",
              "11       2\n",
              "12     674\n",
              "13  345653\n",
              "14    2145\n",
              "15     234\n",
              "16       6"
            ],
            "text/html": [
              "\n",
              "  <div id=\"df-c51e0a55-17e4-4d7a-8c1f-9ff069da4fc0\">\n",
              "    <div class=\"colab-df-container\">\n",
              "      <div>\n",
              "<style scoped>\n",
              "    .dataframe tbody tr th:only-of-type {\n",
              "        vertical-align: middle;\n",
              "    }\n",
              "\n",
              "    .dataframe tbody tr th {\n",
              "        vertical-align: top;\n",
              "    }\n",
              "\n",
              "    .dataframe thead th {\n",
              "        text-align: right;\n",
              "    }\n",
              "</style>\n",
              "<table border=\"1\" class=\"dataframe\">\n",
              "  <thead>\n",
              "    <tr style=\"text-align: right;\">\n",
              "      <th></th>\n",
              "      <th>a</th>\n",
              "    </tr>\n",
              "  </thead>\n",
              "  <tbody>\n",
              "    <tr>\n",
              "      <th>0</th>\n",
              "      <td>1</td>\n",
              "    </tr>\n",
              "    <tr>\n",
              "      <th>1</th>\n",
              "      <td>1</td>\n",
              "    </tr>\n",
              "    <tr>\n",
              "      <th>2</th>\n",
              "      <td>1</td>\n",
              "    </tr>\n",
              "    <tr>\n",
              "      <th>3</th>\n",
              "      <td>1</td>\n",
              "    </tr>\n",
              "    <tr>\n",
              "      <th>4</th>\n",
              "      <td>3</td>\n",
              "    </tr>\n",
              "    <tr>\n",
              "      <th>5</th>\n",
              "      <td>4</td>\n",
              "    </tr>\n",
              "    <tr>\n",
              "      <th>6</th>\n",
              "      <td>5</td>\n",
              "    </tr>\n",
              "    <tr>\n",
              "      <th>7</th>\n",
              "      <td>6</td>\n",
              "    </tr>\n",
              "    <tr>\n",
              "      <th>8</th>\n",
              "      <td>6</td>\n",
              "    </tr>\n",
              "    <tr>\n",
              "      <th>9</th>\n",
              "      <td>6</td>\n",
              "    </tr>\n",
              "    <tr>\n",
              "      <th>10</th>\n",
              "      <td>4</td>\n",
              "    </tr>\n",
              "    <tr>\n",
              "      <th>11</th>\n",
              "      <td>2</td>\n",
              "    </tr>\n",
              "    <tr>\n",
              "      <th>12</th>\n",
              "      <td>674</td>\n",
              "    </tr>\n",
              "    <tr>\n",
              "      <th>13</th>\n",
              "      <td>345653</td>\n",
              "    </tr>\n",
              "    <tr>\n",
              "      <th>14</th>\n",
              "      <td>2145</td>\n",
              "    </tr>\n",
              "    <tr>\n",
              "      <th>15</th>\n",
              "      <td>234</td>\n",
              "    </tr>\n",
              "    <tr>\n",
              "      <th>16</th>\n",
              "      <td>6</td>\n",
              "    </tr>\n",
              "  </tbody>\n",
              "</table>\n",
              "</div>\n",
              "      <button class=\"colab-df-convert\" onclick=\"convertToInteractive('df-c51e0a55-17e4-4d7a-8c1f-9ff069da4fc0')\"\n",
              "              title=\"Convert this dataframe to an interactive table.\"\n",
              "              style=\"display:none;\">\n",
              "        \n",
              "  <svg xmlns=\"http://www.w3.org/2000/svg\" height=\"24px\"viewBox=\"0 0 24 24\"\n",
              "       width=\"24px\">\n",
              "    <path d=\"M0 0h24v24H0V0z\" fill=\"none\"/>\n",
              "    <path d=\"M18.56 5.44l.94 2.06.94-2.06 2.06-.94-2.06-.94-.94-2.06-.94 2.06-2.06.94zm-11 1L8.5 8.5l.94-2.06 2.06-.94-2.06-.94L8.5 2.5l-.94 2.06-2.06.94zm10 10l.94 2.06.94-2.06 2.06-.94-2.06-.94-.94-2.06-.94 2.06-2.06.94z\"/><path d=\"M17.41 7.96l-1.37-1.37c-.4-.4-.92-.59-1.43-.59-.52 0-1.04.2-1.43.59L10.3 9.45l-7.72 7.72c-.78.78-.78 2.05 0 2.83L4 21.41c.39.39.9.59 1.41.59.51 0 1.02-.2 1.41-.59l7.78-7.78 2.81-2.81c.8-.78.8-2.07 0-2.86zM5.41 20L4 18.59l7.72-7.72 1.47 1.35L5.41 20z\"/>\n",
              "  </svg>\n",
              "      </button>\n",
              "      \n",
              "  <style>\n",
              "    .colab-df-container {\n",
              "      display:flex;\n",
              "      flex-wrap:wrap;\n",
              "      gap: 12px;\n",
              "    }\n",
              "\n",
              "    .colab-df-convert {\n",
              "      background-color: #E8F0FE;\n",
              "      border: none;\n",
              "      border-radius: 50%;\n",
              "      cursor: pointer;\n",
              "      display: none;\n",
              "      fill: #1967D2;\n",
              "      height: 32px;\n",
              "      padding: 0 0 0 0;\n",
              "      width: 32px;\n",
              "    }\n",
              "\n",
              "    .colab-df-convert:hover {\n",
              "      background-color: #E2EBFA;\n",
              "      box-shadow: 0px 1px 2px rgba(60, 64, 67, 0.3), 0px 1px 3px 1px rgba(60, 64, 67, 0.15);\n",
              "      fill: #174EA6;\n",
              "    }\n",
              "\n",
              "    [theme=dark] .colab-df-convert {\n",
              "      background-color: #3B4455;\n",
              "      fill: #D2E3FC;\n",
              "    }\n",
              "\n",
              "    [theme=dark] .colab-df-convert:hover {\n",
              "      background-color: #434B5C;\n",
              "      box-shadow: 0px 1px 3px 1px rgba(0, 0, 0, 0.15);\n",
              "      filter: drop-shadow(0px 1px 2px rgba(0, 0, 0, 0.3));\n",
              "      fill: #FFFFFF;\n",
              "    }\n",
              "  </style>\n",
              "\n",
              "      <script>\n",
              "        const buttonEl =\n",
              "          document.querySelector('#df-c51e0a55-17e4-4d7a-8c1f-9ff069da4fc0 button.colab-df-convert');\n",
              "        buttonEl.style.display =\n",
              "          google.colab.kernel.accessAllowed ? 'block' : 'none';\n",
              "\n",
              "        async function convertToInteractive(key) {\n",
              "          const element = document.querySelector('#df-c51e0a55-17e4-4d7a-8c1f-9ff069da4fc0');\n",
              "          const dataTable =\n",
              "            await google.colab.kernel.invokeFunction('convertToInteractive',\n",
              "                                                     [key], {});\n",
              "          if (!dataTable) return;\n",
              "\n",
              "          const docLinkHtml = 'Like what you see? Visit the ' +\n",
              "            '<a target=\"_blank\" href=https://colab.research.google.com/notebooks/data_table.ipynb>data table notebook</a>'\n",
              "            + ' to learn more about interactive tables.';\n",
              "          element.innerHTML = '';\n",
              "          dataTable['output_type'] = 'display_data';\n",
              "          await google.colab.output.renderOutput(dataTable, element);\n",
              "          const docLink = document.createElement('div');\n",
              "          docLink.innerHTML = docLinkHtml;\n",
              "          element.appendChild(docLink);\n",
              "        }\n",
              "      </script>\n",
              "    </div>\n",
              "  </div>\n",
              "  "
            ]
          },
          "metadata": {},
          "execution_count": 89
        }
      ]
    },
    {
      "cell_type": "code",
      "source": [
        "ejemplo['a'].unique()"
      ],
      "metadata": {
        "colab": {
          "base_uri": "https://localhost:8080/"
        },
        "id": "dbZ8DkpL5KYi",
        "outputId": "72b09021-1050-4604-e685-9f69aeb62547"
      },
      "execution_count": null,
      "outputs": [
        {
          "output_type": "execute_result",
          "data": {
            "text/plain": [
              "array([     1,      3,      4,      5,      6,      2,    674, 345653,\n",
              "         2145,    234])"
            ]
          },
          "metadata": {},
          "execution_count": 91
        }
      ]
    },
    {
      "cell_type": "code",
      "source": [
        "ejemplo[ejemplo['a'] > 10]"
      ],
      "metadata": {
        "colab": {
          "base_uri": "https://localhost:8080/",
          "height": 175
        },
        "id": "U5UmZq_K5Y1A",
        "outputId": "5a29a49b-cc21-40c0-b448-a758bdf75226"
      },
      "execution_count": null,
      "outputs": [
        {
          "output_type": "execute_result",
          "data": {
            "text/plain": [
              "         a\n",
              "12     674\n",
              "13  345653\n",
              "14    2145\n",
              "15     234"
            ],
            "text/html": [
              "\n",
              "  <div id=\"df-fa296f8a-45c6-4946-ae94-cd90cbb4464b\">\n",
              "    <div class=\"colab-df-container\">\n",
              "      <div>\n",
              "<style scoped>\n",
              "    .dataframe tbody tr th:only-of-type {\n",
              "        vertical-align: middle;\n",
              "    }\n",
              "\n",
              "    .dataframe tbody tr th {\n",
              "        vertical-align: top;\n",
              "    }\n",
              "\n",
              "    .dataframe thead th {\n",
              "        text-align: right;\n",
              "    }\n",
              "</style>\n",
              "<table border=\"1\" class=\"dataframe\">\n",
              "  <thead>\n",
              "    <tr style=\"text-align: right;\">\n",
              "      <th></th>\n",
              "      <th>a</th>\n",
              "    </tr>\n",
              "  </thead>\n",
              "  <tbody>\n",
              "    <tr>\n",
              "      <th>12</th>\n",
              "      <td>674</td>\n",
              "    </tr>\n",
              "    <tr>\n",
              "      <th>13</th>\n",
              "      <td>345653</td>\n",
              "    </tr>\n",
              "    <tr>\n",
              "      <th>14</th>\n",
              "      <td>2145</td>\n",
              "    </tr>\n",
              "    <tr>\n",
              "      <th>15</th>\n",
              "      <td>234</td>\n",
              "    </tr>\n",
              "  </tbody>\n",
              "</table>\n",
              "</div>\n",
              "      <button class=\"colab-df-convert\" onclick=\"convertToInteractive('df-fa296f8a-45c6-4946-ae94-cd90cbb4464b')\"\n",
              "              title=\"Convert this dataframe to an interactive table.\"\n",
              "              style=\"display:none;\">\n",
              "        \n",
              "  <svg xmlns=\"http://www.w3.org/2000/svg\" height=\"24px\"viewBox=\"0 0 24 24\"\n",
              "       width=\"24px\">\n",
              "    <path d=\"M0 0h24v24H0V0z\" fill=\"none\"/>\n",
              "    <path d=\"M18.56 5.44l.94 2.06.94-2.06 2.06-.94-2.06-.94-.94-2.06-.94 2.06-2.06.94zm-11 1L8.5 8.5l.94-2.06 2.06-.94-2.06-.94L8.5 2.5l-.94 2.06-2.06.94zm10 10l.94 2.06.94-2.06 2.06-.94-2.06-.94-.94-2.06-.94 2.06-2.06.94z\"/><path d=\"M17.41 7.96l-1.37-1.37c-.4-.4-.92-.59-1.43-.59-.52 0-1.04.2-1.43.59L10.3 9.45l-7.72 7.72c-.78.78-.78 2.05 0 2.83L4 21.41c.39.39.9.59 1.41.59.51 0 1.02-.2 1.41-.59l7.78-7.78 2.81-2.81c.8-.78.8-2.07 0-2.86zM5.41 20L4 18.59l7.72-7.72 1.47 1.35L5.41 20z\"/>\n",
              "  </svg>\n",
              "      </button>\n",
              "      \n",
              "  <style>\n",
              "    .colab-df-container {\n",
              "      display:flex;\n",
              "      flex-wrap:wrap;\n",
              "      gap: 12px;\n",
              "    }\n",
              "\n",
              "    .colab-df-convert {\n",
              "      background-color: #E8F0FE;\n",
              "      border: none;\n",
              "      border-radius: 50%;\n",
              "      cursor: pointer;\n",
              "      display: none;\n",
              "      fill: #1967D2;\n",
              "      height: 32px;\n",
              "      padding: 0 0 0 0;\n",
              "      width: 32px;\n",
              "    }\n",
              "\n",
              "    .colab-df-convert:hover {\n",
              "      background-color: #E2EBFA;\n",
              "      box-shadow: 0px 1px 2px rgba(60, 64, 67, 0.3), 0px 1px 3px 1px rgba(60, 64, 67, 0.15);\n",
              "      fill: #174EA6;\n",
              "    }\n",
              "\n",
              "    [theme=dark] .colab-df-convert {\n",
              "      background-color: #3B4455;\n",
              "      fill: #D2E3FC;\n",
              "    }\n",
              "\n",
              "    [theme=dark] .colab-df-convert:hover {\n",
              "      background-color: #434B5C;\n",
              "      box-shadow: 0px 1px 3px 1px rgba(0, 0, 0, 0.15);\n",
              "      filter: drop-shadow(0px 1px 2px rgba(0, 0, 0, 0.3));\n",
              "      fill: #FFFFFF;\n",
              "    }\n",
              "  </style>\n",
              "\n",
              "      <script>\n",
              "        const buttonEl =\n",
              "          document.querySelector('#df-fa296f8a-45c6-4946-ae94-cd90cbb4464b button.colab-df-convert');\n",
              "        buttonEl.style.display =\n",
              "          google.colab.kernel.accessAllowed ? 'block' : 'none';\n",
              "\n",
              "        async function convertToInteractive(key) {\n",
              "          const element = document.querySelector('#df-fa296f8a-45c6-4946-ae94-cd90cbb4464b');\n",
              "          const dataTable =\n",
              "            await google.colab.kernel.invokeFunction('convertToInteractive',\n",
              "                                                     [key], {});\n",
              "          if (!dataTable) return;\n",
              "\n",
              "          const docLinkHtml = 'Like what you see? Visit the ' +\n",
              "            '<a target=\"_blank\" href=https://colab.research.google.com/notebooks/data_table.ipynb>data table notebook</a>'\n",
              "            + ' to learn more about interactive tables.';\n",
              "          element.innerHTML = '';\n",
              "          dataTable['output_type'] = 'display_data';\n",
              "          await google.colab.output.renderOutput(dataTable, element);\n",
              "          const docLink = document.createElement('div');\n",
              "          docLink.innerHTML = docLinkHtml;\n",
              "          element.appendChild(docLink);\n",
              "        }\n",
              "      </script>\n",
              "    </div>\n",
              "  </div>\n",
              "  "
            ]
          },
          "metadata": {},
          "execution_count": 94
        }
      ]
    },
    {
      "cell_type": "code",
      "source": [
        "## para guardar csv\n",
        "ejemplo.to_csv('ejemplo.csv')\n",
        "!ls"
      ],
      "metadata": {
        "colab": {
          "base_uri": "https://localhost:8080/"
        },
        "id": "ffJluOYg5qLD",
        "outputId": "c7a19034-62f2-411e-b7c1-d38b3d07eaee"
      },
      "execution_count": null,
      "outputs": [
        {
          "output_type": "stream",
          "name": "stdout",
          "text": [
            "ejemplo.csv  Example1.txt  sample_data\n"
          ]
        }
      ]
    },
    {
      "cell_type": "markdown",
      "source": [
        "## laboratorios modulo 4"
      ],
      "metadata": {
        "id": "AQtkFzk5tdH1"
      }
    },
    {
      "cell_type": "code",
      "source": [
        "## quiz 4.3 laboratorio \n",
        "# import pandas as pd # se comenta porque ya esta cargada la libreria\n",
        "\n",
        "df=pd.DataFrame({'a':[11,21,31],'b':[21,22,23]})\n",
        "print(df[:3])\n",
        "print(df.head(3))\n",
        "print(df[\"a\"])"
      ],
      "metadata": {
        "id": "Xfcf3x2itcoG"
      },
      "execution_count": null,
      "outputs": []
    },
    {
      "cell_type": "code",
      "source": [
        "# laboratorio 4.4\n",
        "# 1.Find the unique values in column  'a' :\n",
        "df=pd.DataFrame({'a':[1,2,1],'b':[1,1,1]})\n",
        "print(df[\"a\"].unique())\n",
        "# 2. Return a dataframe with only the rows where column  a  is less than two:\n",
        "print(df[df[\"a\"]<2])"
      ],
      "metadata": {
        "id": "6ZP-broGsXXS",
        "outputId": "64ef9cdf-2aa0-4755-a438-7ea65dc45826",
        "colab": {
          "base_uri": "https://localhost:8080/"
        }
      },
      "execution_count": null,
      "outputs": [
        {
          "output_type": "stream",
          "name": "stdout",
          "text": [
            "[1 2]\n",
            "   a  b\n",
            "0  1  1\n",
            "2  1  1\n"
          ]
        }
      ]
    },
    {
      "cell_type": "code",
      "source": [
        "# pandas Practice\n",
        "#Problem 1: Create a dataframe to display the result as below:\n",
        "practica = pd.DataFrame(\n",
        "    {\"Student\": [\"David\",\"Samuel\",\"Terry\",\"Evan\"],\n",
        "     \"Age\": [27,27,22,32],\n",
        "     \"Country\": [\"UK\",\"Canada\",\"China\",\"USA\"],\n",
        "     \"Course\": [\"Python\",\"Data Structures\",\"Machine Learning\",\"Web Development\"],\n",
        "     \"Marks\": [85,72,89,76]}\n",
        ")\n",
        "practica"
      ],
      "metadata": {
        "id": "FM76U4a1tYMm",
        "outputId": "bbf09938-4e26-4edb-d548-2048d368f388",
        "colab": {
          "base_uri": "https://localhost:8080/",
          "height": 175
        }
      },
      "execution_count": null,
      "outputs": [
        {
          "output_type": "execute_result",
          "data": {
            "text/plain": [
              "  Student  Age Country            Course  Marks\n",
              "0   David   27      UK            Python     85\n",
              "1  Samuel   27  Canada   Data Structures     72\n",
              "2   Terry   22   China  Machine Learning     89\n",
              "3    Evan   32     USA   Web Development     76"
            ],
            "text/html": [
              "\n",
              "  <div id=\"df-6208d0ef-0cf0-4c0b-a425-1fb8e0a980a9\">\n",
              "    <div class=\"colab-df-container\">\n",
              "      <div>\n",
              "<style scoped>\n",
              "    .dataframe tbody tr th:only-of-type {\n",
              "        vertical-align: middle;\n",
              "    }\n",
              "\n",
              "    .dataframe tbody tr th {\n",
              "        vertical-align: top;\n",
              "    }\n",
              "\n",
              "    .dataframe thead th {\n",
              "        text-align: right;\n",
              "    }\n",
              "</style>\n",
              "<table border=\"1\" class=\"dataframe\">\n",
              "  <thead>\n",
              "    <tr style=\"text-align: right;\">\n",
              "      <th></th>\n",
              "      <th>Student</th>\n",
              "      <th>Age</th>\n",
              "      <th>Country</th>\n",
              "      <th>Course</th>\n",
              "      <th>Marks</th>\n",
              "    </tr>\n",
              "  </thead>\n",
              "  <tbody>\n",
              "    <tr>\n",
              "      <th>0</th>\n",
              "      <td>David</td>\n",
              "      <td>27</td>\n",
              "      <td>UK</td>\n",
              "      <td>Python</td>\n",
              "      <td>85</td>\n",
              "    </tr>\n",
              "    <tr>\n",
              "      <th>1</th>\n",
              "      <td>Samuel</td>\n",
              "      <td>27</td>\n",
              "      <td>Canada</td>\n",
              "      <td>Data Structures</td>\n",
              "      <td>72</td>\n",
              "    </tr>\n",
              "    <tr>\n",
              "      <th>2</th>\n",
              "      <td>Terry</td>\n",
              "      <td>22</td>\n",
              "      <td>China</td>\n",
              "      <td>Machine Learning</td>\n",
              "      <td>89</td>\n",
              "    </tr>\n",
              "    <tr>\n",
              "      <th>3</th>\n",
              "      <td>Evan</td>\n",
              "      <td>32</td>\n",
              "      <td>USA</td>\n",
              "      <td>Web Development</td>\n",
              "      <td>76</td>\n",
              "    </tr>\n",
              "  </tbody>\n",
              "</table>\n",
              "</div>\n",
              "      <button class=\"colab-df-convert\" onclick=\"convertToInteractive('df-6208d0ef-0cf0-4c0b-a425-1fb8e0a980a9')\"\n",
              "              title=\"Convert this dataframe to an interactive table.\"\n",
              "              style=\"display:none;\">\n",
              "        \n",
              "  <svg xmlns=\"http://www.w3.org/2000/svg\" height=\"24px\"viewBox=\"0 0 24 24\"\n",
              "       width=\"24px\">\n",
              "    <path d=\"M0 0h24v24H0V0z\" fill=\"none\"/>\n",
              "    <path d=\"M18.56 5.44l.94 2.06.94-2.06 2.06-.94-2.06-.94-.94-2.06-.94 2.06-2.06.94zm-11 1L8.5 8.5l.94-2.06 2.06-.94-2.06-.94L8.5 2.5l-.94 2.06-2.06.94zm10 10l.94 2.06.94-2.06 2.06-.94-2.06-.94-.94-2.06-.94 2.06-2.06.94z\"/><path d=\"M17.41 7.96l-1.37-1.37c-.4-.4-.92-.59-1.43-.59-.52 0-1.04.2-1.43.59L10.3 9.45l-7.72 7.72c-.78.78-.78 2.05 0 2.83L4 21.41c.39.39.9.59 1.41.59.51 0 1.02-.2 1.41-.59l7.78-7.78 2.81-2.81c.8-.78.8-2.07 0-2.86zM5.41 20L4 18.59l7.72-7.72 1.47 1.35L5.41 20z\"/>\n",
              "  </svg>\n",
              "      </button>\n",
              "      \n",
              "  <style>\n",
              "    .colab-df-container {\n",
              "      display:flex;\n",
              "      flex-wrap:wrap;\n",
              "      gap: 12px;\n",
              "    }\n",
              "\n",
              "    .colab-df-convert {\n",
              "      background-color: #E8F0FE;\n",
              "      border: none;\n",
              "      border-radius: 50%;\n",
              "      cursor: pointer;\n",
              "      display: none;\n",
              "      fill: #1967D2;\n",
              "      height: 32px;\n",
              "      padding: 0 0 0 0;\n",
              "      width: 32px;\n",
              "    }\n",
              "\n",
              "    .colab-df-convert:hover {\n",
              "      background-color: #E2EBFA;\n",
              "      box-shadow: 0px 1px 2px rgba(60, 64, 67, 0.3), 0px 1px 3px 1px rgba(60, 64, 67, 0.15);\n",
              "      fill: #174EA6;\n",
              "    }\n",
              "\n",
              "    [theme=dark] .colab-df-convert {\n",
              "      background-color: #3B4455;\n",
              "      fill: #D2E3FC;\n",
              "    }\n",
              "\n",
              "    [theme=dark] .colab-df-convert:hover {\n",
              "      background-color: #434B5C;\n",
              "      box-shadow: 0px 1px 3px 1px rgba(0, 0, 0, 0.15);\n",
              "      filter: drop-shadow(0px 1px 2px rgba(0, 0, 0, 0.3));\n",
              "      fill: #FFFFFF;\n",
              "    }\n",
              "  </style>\n",
              "\n",
              "      <script>\n",
              "        const buttonEl =\n",
              "          document.querySelector('#df-6208d0ef-0cf0-4c0b-a425-1fb8e0a980a9 button.colab-df-convert');\n",
              "        buttonEl.style.display =\n",
              "          google.colab.kernel.accessAllowed ? 'block' : 'none';\n",
              "\n",
              "        async function convertToInteractive(key) {\n",
              "          const element = document.querySelector('#df-6208d0ef-0cf0-4c0b-a425-1fb8e0a980a9');\n",
              "          const dataTable =\n",
              "            await google.colab.kernel.invokeFunction('convertToInteractive',\n",
              "                                                     [key], {});\n",
              "          if (!dataTable) return;\n",
              "\n",
              "          const docLinkHtml = 'Like what you see? Visit the ' +\n",
              "            '<a target=\"_blank\" href=https://colab.research.google.com/notebooks/data_table.ipynb>data table notebook</a>'\n",
              "            + ' to learn more about interactive tables.';\n",
              "          element.innerHTML = '';\n",
              "          dataTable['output_type'] = 'display_data';\n",
              "          await google.colab.output.renderOutput(dataTable, element);\n",
              "          const docLink = document.createElement('div');\n",
              "          docLink.innerHTML = docLinkHtml;\n",
              "          element.appendChild(docLink);\n",
              "        }\n",
              "      </script>\n",
              "    </div>\n",
              "  </div>\n",
              "  "
            ]
          },
          "metadata": {},
          "execution_count": 9
        }
      ]
    },
    {
      "cell_type": "code",
      "source": [
        "#Problem 2: Retrieve the Marks column and assign it to a variable b\n",
        "b=practica[\"Marks\"]\n",
        "\n",
        "#Problem 3: Retrieve the Country and Course columns and assign it to a variable c\n",
        "c=practica[[\"Country\",\"Course\"]]"
      ],
      "metadata": {
        "id": "lAS1wpKDvDya"
      },
      "execution_count": null,
      "outputs": []
    },
    {
      "cell_type": "markdown",
      "source": [
        "# Modulo 5"
      ],
      "metadata": {
        "id": "M65vQV-LLwrZ"
      }
    },
    {
      "cell_type": "markdown",
      "source": [
        "## 5.1 Numpy y  5.2 Numpy 2D arrays\n",
        "\n",
        "\n",
        "\n",
        "1.   Conceptos basicos y creacion de matrices\n",
        "2.   Indexación y rebanar\n",
        "3.   Operaciones básicas\n",
        "4.   Funciones universales \n",
        "\n"
      ],
      "metadata": {
        "id": "80TMPUZgL32Z"
      }
    },
    {
      "cell_type": "code",
      "source": [
        "### como puedes observar los ejercicios realizados aqui\n",
        "### tambien son parte de la quiz 5.1\n",
        "import numpy as np"
      ],
      "metadata": {
        "id": "-eFQayzkOKxk"
      },
      "execution_count": null,
      "outputs": []
    },
    {
      "cell_type": "code",
      "source": [
        "a = np.array([0,1,3,4,5])\n",
        "print(type(a))\n",
        "print(a.dtype)\n",
        "print(a.size)\n",
        "print(a.ndim)\n",
        "print(a.shape)\n",
        "a = np.array([0,1,3.34,4,5.2])\n",
        "print(type(a))\n",
        "### quiz 5.1 \n",
        "print(a.dtype)### quiz 5.1 \n",
        "print(a.size)### quiz 5.1 \n",
        "print(a.ndim)### quiz 5.1 \n",
        "print(a.shape)### quiz 5.1 "
      ],
      "metadata": {
        "id": "JV58hmwqOGY5",
        "outputId": "b2b0514c-9804-456c-fbe6-c32a363562a0",
        "colab": {
          "base_uri": "https://localhost:8080/"
        }
      },
      "execution_count": null,
      "outputs": [
        {
          "output_type": "stream",
          "name": "stdout",
          "text": [
            "<class 'numpy.ndarray'>\n",
            "int64\n",
            "5\n",
            "1\n",
            "(5,)\n",
            "<class 'numpy.ndarray'>\n",
            "float64\n",
            "5\n",
            "1\n",
            "(5,)\n"
          ]
        }
      ]
    },
    {
      "cell_type": "code",
      "source": [
        "## indexacion \n",
        "a = np.array([120,1123,3,46,54])\n",
        "print(a[1])\n",
        "print(a[1:4])\n",
        "a[1] = 0\n",
        "print(a)\n",
        "a[2:4] = 11, 12\n",
        "print(a)"
      ],
      "metadata": {
        "id": "Ks5b5h0LOkHM",
        "outputId": "bf7c51a3-1e79-42b3-e976-0f9c69a83d68",
        "colab": {
          "base_uri": "https://localhost:8080/"
        }
      },
      "execution_count": null,
      "outputs": [
        {
          "output_type": "stream",
          "name": "stdout",
          "text": [
            "1123\n",
            "[1123    3   46]\n",
            "[120   0   3  46  54]\n",
            "[120   0  11  12  54]\n"
          ]
        }
      ]
    },
    {
      "cell_type": "code",
      "source": [
        "##### suma ###########\n",
        "u = np.array([1,0])\n",
        "v = np.array([0,1])\n",
        "\n",
        "z = u + v #combinaciones lineales\n",
        "print(z)"
      ],
      "metadata": {
        "id": "lD31B7TNTP7w",
        "outputId": "d908e8f6-78c3-47e4-ba1a-94c377c0ac52",
        "colab": {
          "base_uri": "https://localhost:8080/"
        }
      },
      "execution_count": null,
      "outputs": [
        {
          "output_type": "execute_result",
          "data": {
            "text/plain": [
              "array([1, 1])"
            ]
          },
          "metadata": {},
          "execution_count": 23
        }
      ]
    },
    {
      "cell_type": "code",
      "source": [
        "u = [1,0]\n",
        "v = [0,1]\n",
        "z = []\n",
        "\n",
        "for n, m in zip(u,v):\n",
        "\n",
        "  z.append(n+m)\n",
        "\n",
        "print(z)\n",
        "print(type(z))"
      ],
      "metadata": {
        "id": "9KtKeF_ZeT89",
        "outputId": "ef3188ea-2c4d-46f5-a623-93ada50bede9",
        "colab": {
          "base_uri": "https://localhost:8080/"
        }
      },
      "execution_count": null,
      "outputs": [
        {
          "output_type": "stream",
          "name": "stdout",
          "text": [
            "[1, 1]\n",
            "<class 'list'>\n"
          ]
        }
      ]
    },
    {
      "cell_type": "code",
      "source": [
        "####### multiplicacion ###########\n",
        "u = np.array([1,2])\n",
        "z = 2 * u #combinaciones lineales\n",
        "print(z)"
      ],
      "metadata": {
        "id": "t8TYrZbXfCV5",
        "outputId": "71539995-583a-4450-8a19-aaa1123cf1ea",
        "colab": {
          "base_uri": "https://localhost:8080/"
        }
      },
      "execution_count": null,
      "outputs": [
        {
          "output_type": "stream",
          "name": "stdout",
          "text": [
            "[2 4]\n"
          ]
        }
      ]
    },
    {
      "cell_type": "code",
      "source": [
        "u = np.array([1,2])\n",
        "z = []\n",
        "\n",
        "for n in u:\n",
        "\n",
        "  z.append(n*2)\n",
        "\n",
        "print(z)\n",
        "print(type(z))\n",
        "\n",
        "z = []\n",
        "for n in zip(u): ## los toma como listas y los multilica dando dos elementos\n",
        "\n",
        "  z.append(n*2)\n",
        "\n",
        "print(z)\n",
        "print(type(z))"
      ],
      "metadata": {
        "id": "tZ6QZqxUe_TN",
        "outputId": "8b115931-9e9b-4e57-9b8c-d78c49390ef2",
        "colab": {
          "base_uri": "https://localhost:8080/"
        }
      },
      "execution_count": null,
      "outputs": [
        {
          "output_type": "stream",
          "name": "stdout",
          "text": [
            "[2, 4]\n",
            "<class 'list'>\n",
            "[(1, 1), (2, 2)]\n",
            "<class 'list'>\n"
          ]
        }
      ]
    },
    {
      "cell_type": "code",
      "source": [
        "u = [1,2]\n",
        "v = [3,1]\n",
        "z = []\n",
        "\n",
        "for n, m in zip(u,v):\n",
        "\n",
        "  z.append(n*m)\n",
        "\n",
        "print(z)\n",
        "print(type(z))"
      ],
      "metadata": {
        "id": "cv2p4zW0gWZq",
        "outputId": "0751fbe3-4b76-4e20-d910-31fbdc960310",
        "colab": {
          "base_uri": "https://localhost:8080/"
        }
      },
      "execution_count": null,
      "outputs": [
        {
          "output_type": "stream",
          "name": "stdout",
          "text": [
            "[3, 2]\n",
            "<class 'list'>\n"
          ]
        }
      ]
    },
    {
      "cell_type": "code",
      "source": [
        "# dot product\n",
        "u = [1,2]\n",
        "v = [3,1]\n",
        "z = np.dot(u,v)\n",
        "\n",
        "print(z)\n",
        "print(type(z))"
      ],
      "metadata": {
        "id": "ODDI3tpDgwPy",
        "outputId": "95749798-c871-4a9d-923f-77e845a2ead7",
        "colab": {
          "base_uri": "https://localhost:8080/"
        }
      },
      "execution_count": null,
      "outputs": [
        {
          "output_type": "stream",
          "name": "stdout",
          "text": [
            "5\n",
            "<class 'numpy.int64'>\n"
          ]
        }
      ]
    },
    {
      "cell_type": "code",
      "source": [
        "## universal funtion\n",
        "print(a.mean())### quiz 5.1 \n",
        "print(a.max())\n",
        "print(np.pi)\n",
        "print(np.sin(4))\n",
        "print(np.linspace(-2,2,num=5))\n",
        "print(np.linspace(-2,2,num=10)) # 5 partes iguales luego 10 y sucesivamente\n",
        "print(np.linspace(-2,2,num=9)) # correccion son 10-1 jajaja \n",
        "\n",
        "x=np.linspace(0,2*np.pi,100)\n",
        "y = np.sin(x)\n",
        "\n",
        "import matplotlib.pyplot as plt\n",
        "%matplotlib inline\n",
        "plt.plot(x,y)"
      ],
      "metadata": {
        "id": "YE2Kgt4ThAah",
        "outputId": "b6d97af6-5f51-45bc-8d73-28b472fd6567",
        "colab": {
          "base_uri": "https://localhost:8080/",
          "height": 421
        }
      },
      "execution_count": null,
      "outputs": [
        {
          "output_type": "stream",
          "name": "stdout",
          "text": [
            "39.4\n",
            "120\n",
            "3.141592653589793\n",
            "-0.7568024953079282\n",
            "[-2. -1.  0.  1.  2.]\n",
            "[-2.         -1.55555556 -1.11111111 -0.66666667 -0.22222222  0.22222222\n",
            "  0.66666667  1.11111111  1.55555556  2.        ]\n",
            "[-2.  -1.5 -1.  -0.5  0.   0.5  1.   1.5  2. ]\n"
          ]
        },
        {
          "output_type": "execute_result",
          "data": {
            "text/plain": [
              "[<matplotlib.lines.Line2D at 0x7fc603de9590>]"
            ]
          },
          "metadata": {},
          "execution_count": 61
        },
        {
          "output_type": "display_data",
          "data": {
            "text/plain": [
              "<Figure size 432x288 with 1 Axes>"
            ],
            "image/png": "[encoded data removed]"
          },
          "metadata": {
            "needs_background": "light"
          }
        }
      ]
    },
    {
      "cell_type": "code",
      "source": [
        "### quiz 5.2\n",
        "import numpy as np\n",
        "A=np.array([[11,12],[21,22],[31,32]])\n",
        "print(type(A))\n",
        "print(A)\n",
        "print(A.shape)\n",
        "print(A.dtype)\n",
        "print(A[1,:])"
      ],
      "metadata": {
        "id": "gef0CzASjyAn",
        "outputId": "c3f52187-c721-4dbb-c593-f51e182ac506",
        "colab": {
          "base_uri": "https://localhost:8080/"
        }
      },
      "execution_count": null,
      "outputs": [
        {
          "output_type": "stream",
          "name": "stdout",
          "text": [
            "<class 'numpy.ndarray'>\n",
            "[[11 12]\n",
            " [21 22]\n",
            " [31 32]]\n",
            "(3, 2)\n",
            "int64\n",
            "[21 22]\n"
          ]
        }
      ]
    },
    {
      "cell_type": "code",
      "source": [
        "A=np.array([[11,12],[21,22]])\n",
        "B=np.array([[1, 0],[0,1]])"
      ],
      "metadata": {
        "id": "eiEZ5kDmjy7A"
      },
      "execution_count": null,
      "outputs": []
    },
    {
      "cell_type": "code",
      "source": [
        "np.dot(A,B)"
      ],
      "metadata": {
        "id": "WZL3rMcQlXLS",
        "outputId": "d69b7cbc-8254-467b-abdf-7013f3665e30",
        "colab": {
          "base_uri": "https://localhost:8080/"
        }
      },
      "execution_count": null,
      "outputs": [
        {
          "output_type": "execute_result",
          "data": {
            "text/plain": [
              "array([[11, 12],\n",
              "       [21, 22]])"
            ]
          },
          "metadata": {},
          "execution_count": 75
        }
      ]
    },
    {
      "cell_type": "code",
      "source": [
        "A='1234567'\n",
        "A[1::2]"
      ],
      "metadata": {
        "id": "KX4ZgqC-mepl",
        "outputId": "d5daac4d-09c5-4c1f-c734-3a0615be9b15",
        "colab": {
          "base_uri": "https://localhost:8080/",
          "height": 35
        }
      },
      "execution_count": null,
      "outputs": [
        {
          "output_type": "execute_result",
          "data": {
            "text/plain": [
              "'246'"
            ],
            "application/vnd.google.colaboratory.intrinsic+json": {
              "type": "string"
            }
          },
          "metadata": {},
          "execution_count": 78
        }
      ]
    },
    {
      "cell_type": "code",
      "source": [
        "Name=\"Michael Jackson\"\n",
        "Name.find('el')"
      ],
      "metadata": {
        "id": "ImceMk1Mm7N1",
        "outputId": "0efc5db6-600e-424e-e9a2-6f3259b9deae",
        "colab": {
          "base_uri": "https://localhost:8080/"
        }
      },
      "execution_count": null,
      "outputs": [
        {
          "output_type": "execute_result",
          "data": {
            "text/plain": [
              "5"
            ]
          },
          "metadata": {},
          "execution_count": 80
        }
      ]
    },
    {
      "cell_type": "code",
      "source": [
        "a = []\n",
        "type(set(a))"
      ],
      "metadata": {
        "id": "M3VQEeh5n2De",
        "outputId": "096e8b38-d218-45ab-9625-97b16bd9f39c",
        "colab": {
          "base_uri": "https://localhost:8080/"
        }
      },
      "execution_count": null,
      "outputs": [
        {
          "output_type": "execute_result",
          "data": {
            "text/plain": [
              "set"
            ]
          },
          "metadata": {},
          "execution_count": 84
        }
      ]
    },
    {
      "cell_type": "code",
      "source": [
        " V={'A','B', \"A\"}\n",
        "V.add(\"c\")\n",
        "V"
      ],
      "metadata": {
        "id": "aF_rd6CfoOEb",
        "outputId": "542ec9f7-513c-4d61-a496-e1781f9f239a",
        "colab": {
          "base_uri": "https://localhost:8080/"
        }
      },
      "execution_count": null,
      "outputs": [
        {
          "output_type": "execute_result",
          "data": {
            "text/plain": [
              "{'A', 'B', 'c'}"
            ]
          },
          "metadata": {},
          "execution_count": 91
        }
      ]
    },
    {
      "cell_type": "code",
      "source": [
        "def Add(x,y):\n",
        "\n",
        "z=y+x\n",
        "\n",
        "return(y)"
      ],
      "metadata": {
        "id": "DQxd4lKqpYW4"
      },
      "execution_count": null,
      "outputs": []
    },
    {
      "cell_type": "code",
      "source": [
        "class Points(object):\n",
        "\n",
        "  def __init__(self,x,y):\n",
        "\n",
        "    self.x=x\n",
        "\n",
        "    self.y=y\n",
        "\n",
        "  def print_point(self):\n",
        "\n",
        "    print('x=',self.x,' y=',self.y)\n",
        "\n",
        "p2=Points(1,2)\n",
        "\n",
        "p2.x=2\n",
        "\n",
        "p2.print_point()\n",
        "\n",
        "\n"
      ],
      "metadata": {
        "id": "dxuBQlhApmB4",
        "outputId": "621eb682-85d8-4d87-d401-67d76eb33909",
        "colab": {
          "base_uri": "https://localhost:8080/"
        }
      },
      "execution_count": null,
      "outputs": [
        {
          "output_type": "stream",
          "name": "stdout",
          "text": [
            "x= 2  y= 2\n"
          ]
        }
      ]
    },
    {
      "cell_type": "markdown",
      "source": [
        "## 5.3 Simple APIs"
      ],
      "metadata": {
        "id": "p8tL6okUL94U"
      }
    }
  ]
}