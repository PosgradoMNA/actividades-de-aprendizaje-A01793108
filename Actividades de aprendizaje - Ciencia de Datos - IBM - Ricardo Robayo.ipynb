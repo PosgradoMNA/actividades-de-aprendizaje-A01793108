{
  "nbformat": 4,
  "nbformat_minor": 0,
  "metadata": {
    "colab": {
      "name": "assignment01.ipynb",
      "provenance": [],
      "toc_visible": true,
      "include_colab_link": true
    },
    "kernelspec": {
      "name": "python3",
      "display_name": "Python 3"
    },
    "language_info": {
      "name": "python"
    }
  },
  "cells": [
    {
      "cell_type": "markdown",
      "metadata": {
        "id": "view-in-github",
        "colab_type": "text"
      },
      "source": [
        "<a href=\"https://colab.research.google.com/github/PosgradoMNA/actividades-de-aprendizaje-A01793108/blob/main/Actividades%20de%20aprendizaje%20-%20Ciencia%20de%20Datos%20-%20IBM%20-%20Ricardo%20Robayo.ipynb\" target=\"_parent\"><img src=\"https://colab.research.google.com/assets/colab-badge.svg\" alt=\"Open In Colab\"/></a>"
      ]
    },
    {
      "cell_type": "markdown",
      "source": [
        "# **Modulo 1**\n",
        "Curso de IBM"
      ],
      "metadata": {
        "id": "jLqUFcLg3sPp"
      }
    },
    {
      "cell_type": "code",
      "source": [
        "# para lograr imprimir resultados en pantalla\n",
        "print(\"Hola\\nMundo\")\n",
        "## para comentar resultados\n",
        "# print(\"Hola\\nMundo\")"
      ],
      "metadata": {
        "id": "mxM_WppZPMFx",
        "outputId": "c3cec756-062a-4ac1-d9b7-966c565d2c9a",
        "colab": {
          "base_uri": "https://localhost:8080/"
        }
      },
      "execution_count": 2,
      "outputs": [
        {
          "output_type": "stream",
          "name": "stdout",
          "text": [
            "Hola\n",
            "Mundo\n"
          ]
        }
      ]
    },
    {
      "cell_type": "markdown",
      "source": [
        "# 1.1 Tipos de data\n",
        "1.   character = str\n",
        "2.   boolean = bool no se menciona como dato\n",
        "3.   interger = int\n",
        "4.   float = float\n",
        "\n"
      ],
      "metadata": {
        "id": "UhR9K5IgA-c-"
      }
    },
    {
      "cell_type": "code",
      "source": [
        "## tipo de data en python\n",
        "print(type(int(1.1)))\n",
        "print(bool(1))\n",
        "print(int(True))"
      ],
      "metadata": {
        "colab": {
          "base_uri": "https://localhost:8080/"
        },
        "id": "2cPVXiIC5pAx",
        "outputId": "71b92cdb-09f1-4e74-f6cf-a9c8694e66e0"
      },
      "execution_count": 11,
      "outputs": [
        {
          "output_type": "stream",
          "name": "stdout",
          "text": [
            "<class 'int'>\n",
            "True\n",
            "1\n"
          ]
        }
      ]
    },
    {
      "cell_type": "markdown",
      "source": [
        "# 1.2 tipos de operaciones"
      ],
      "metadata": {
        "id": "Ge4vHy7rgkXC"
      }
    },
    {
      "cell_type": "code",
      "source": [
        "  ## multiplicacion\n",
        "print(1*33)\n",
        "  ## suma \n",
        "print(1+33)\n",
        "  ## resta\n",
        "print(1-33)\n",
        "  ## division\n",
        "print(20/3)\n",
        "print(20//3) ## sirve para generar algoritmos"
      ],
      "metadata": {
        "colab": {
          "base_uri": "https://localhost:8080/"
        },
        "id": "g78OXSlGAsk6",
        "outputId": "da07b3e1-3460-4ef6-8f1d-e77424de88ed"
      },
      "execution_count": 10,
      "outputs": [
        {
          "output_type": "stream",
          "name": "stdout",
          "text": [
            "33\n",
            "34\n",
            "-32\n",
            "6.666666666666667\n",
            "6\n"
          ]
        }
      ]
    },
    {
      "cell_type": "markdown",
      "source": [
        "# 1.1 Strings\n"
      ],
      "metadata": {
        "id": "on4KNTbiOZjE"
      }
    },
    {
      "cell_type": "code",
      "source": [
        "## Strings\n",
        "## Metodos\n",
        "  ## como las cadenas son secuencias pueden aplicarse métodos de listas y tuplas \n",
        "  ## pero adicionalmente tienen otro **grupo de métodos**\n",
        "\n",
        "### union de variables \n",
        "print(\"gato\" * 3)\n",
        "print(\"perro gato\" + \"comen comida\")\n",
        "mascotas = \"perro gato \"\n",
        "print( mascotas + \"comen comida con otros perros\")\n",
        "\n",
        "#### indexación de strings\n",
        "Numbers = \"012345\"\n",
        "print(Numbers[:5]) ## imprime los numeros dentro del rango, inclido el final\n",
        "print(Numbers[-1]) ## toma el ultimo elemento\n",
        "print(Numbers[1:2]) ## acota la toma de elementos\n",
        "print(Numbers[1:2])\n",
        "print(Numbers[::2])\n",
        "## restricciones determinar hasta que posicion toma informacion y luego cada 3 palabras\n",
        "print(Numbers[:4:3]) \n",
        "\n",
        "\n",
        "### se le conoce como un final: \\\n",
        "print(\"perros y gatos \\con dedos\") ## se mantiene como un fin \n",
        "print(\"perros y gatos \\\\d\")\n",
        "print(\"perros y gatos\\ncon dedos\")\n",
        "print(r\"perros y gatos \\\\d\") ## conserva un solo \\\n",
        "print(\"perros y gatos \\tcon dedos\")\n",
        "\n",
        "###### metodos específicos para strings ########\n",
        "nombre = \"Jhonathan\"\n",
        "print(nombre.find(\"t\")) # no admite listas para buscar elementos\n",
        "print(nombre.find(\"th\")) # arroja el valor donde se encuentra la primera letra en busqueda\n",
        "print(nombre.upper())\n",
        "print(nombre.replace(\"J\", \"X\"))\n",
        "print(len(nombre))"
      ],
      "metadata": {
        "colab": {
          "base_uri": "https://localhost:8080/"
        },
        "id": "X2SDLYBSE_im",
        "outputId": "f11008bb-123d-425c-8092-667c27c5c121"
      },
      "execution_count": 62,
      "outputs": [
        {
          "output_type": "stream",
          "name": "stdout",
          "text": [
            "gatogatogato\n",
            "perro gatocomen comida\n",
            "perro gato comen comida con otros perros\n",
            "01234\n",
            "5\n",
            "1\n",
            "1\n",
            "024\n",
            "03\n",
            "perros y gatos \\ con dedos\n",
            "perros y gatos \\d\n",
            "perros y gatos\n",
            "con dedos\n",
            "perros y gatos \\\\d\n",
            "perros y gatos \tcon dedos\n",
            "5\n",
            "5\n",
            "JHONATHAN\n",
            "Xhonathan\n",
            "9\n"
          ]
        }
      ]
    },
    {
      "cell_type": "markdown",
      "source": [
        "# **Modulo 2**\n",
        "\n",
        "\n",
        "\n",
        "1.   Tuplas\n",
        "2.   Listas\n",
        "3.   Sets\n",
        "4.   Dictionaries"
      ],
      "metadata": {
        "id": "CAmmWXr3BVt9"
      }
    },
    {
      "cell_type": "markdown",
      "source": [
        "# 2.1. Tuplas"
      ],
      "metadata": {
        "id": "5YhGrn7HgMvB"
      }
    },
    {
      "cell_type": "code",
      "source": [
        "# son elementos que no pueden ser modificados \n",
        "print((\"disco\", 10, 1.2))\n",
        "print((\"disco\", 10, 1.2) + (\"a\", \"c\"))\n",
        "print((\"disco\", 10, 1.2)[2]) #puedo ingresar por indexacion de forma directa\n",
        "print((\"disco\", 10, 1.2)[-2]) # existe indexacion inversa\n",
        "print((\"disco\", 10, 1.2)[1:3]) \n",
        "\n",
        "# las tuplas pueden contener otros elementos complejos o simples\n",
        "NT = (1, 2, (\"pop\", \"rock\"), (3,4), (\"disco\", (1,2)))\n",
        "print(NT[2]) # podemos considerarlo como si fueran arboles\n",
        "print(NT[2][1])\n",
        "print(NT[2][1][3])\n"
      ],
      "metadata": {
        "colab": {
          "base_uri": "https://localhost:8080/"
        },
        "id": "8TL4eLijiQNh",
        "outputId": "8104e5fd-5f9d-4cb3-ad86-5cb14e71c245"
      },
      "execution_count": 77,
      "outputs": [
        {
          "output_type": "stream",
          "name": "stdout",
          "text": [
            "('disco', 10, 1.2)\n",
            "('disco', 10, 1.2, 'a', 'c')\n",
            "1.2\n",
            "10\n",
            "(10, 1.2)\n",
            "('pop', 'rock')\n",
            "rock\n",
            "k\n"
          ]
        }
      ]
    },
    {
      "cell_type": "markdown",
      "source": [
        "# 2.2. Listas"
      ],
      "metadata": {
        "id": "Cini47gNgrye"
      }
    },
    {
      "cell_type": "code",
      "source": [
        "L = [\"Michale Jackson\", 10.1, 1982] # puede contener elemenos\n",
        "print(L)\n",
        "print(L[0])\n",
        "print(L[0:2])\n",
        "print(L[0][1])\n",
        "print(L + [\"gatos\"]) ## podemos aumentar elementos con suma\n",
        "print(L + [(55)]) ## si introducimos una tupla en una lista con un solo elemento solo se incluye ese elemento\n",
        "print(L + [(\"gatos\", \"caballo\")]) ## se unen ya como tupla mas de un elemento\n",
        "L.extend([\"pop\", 102]) ## aumenta la lista pero con los elementos pasados\n",
        "print(L)\n",
        "L.append([\"pop\", 102])\n",
        "print(L)\n",
        "L[0] = 1\n",
        "print(L)\n",
        "del(L[0]) ## Eliminar elementos\n",
        "print(L)\n",
        "resultado = \"perro con gatos\".split() # convertir un character en una lista\n",
        "print(resultado)"
      ],
      "metadata": {
        "colab": {
          "base_uri": "https://localhost:8080/"
        },
        "id": "53MzBbCuiP46",
        "outputId": "07e86675-14bd-4206-87ab-83656fcfae8d"
      },
      "execution_count": 107,
      "outputs": [
        {
          "output_type": "stream",
          "name": "stdout",
          "text": [
            "['Michale Jackson', 10.1, 1982]\n",
            "Michale Jackson\n",
            "['Michale Jackson', 10.1]\n",
            "i\n",
            "['Michale Jackson', 10.1, 1982, 'gatos']\n",
            "['Michale Jackson', 10.1, 1982, 55]\n",
            "['Michale Jackson', 10.1, 1982, ('gatos', 'caballo')]\n",
            "['Michale Jackson', 10.1, 1982, 'pop', 102]\n",
            "['Michale Jackson', 10.1, 1982, 'pop', 102, ['pop', 102]]\n",
            "[1, 10.1, 1982, 'pop', 102, ['pop', 102]]\n",
            "[10.1, 1982, 'pop', 102, ['pop', 102]]\n",
            "['perro', 'con', 'gatos']\n"
          ]
        }
      ]
    },
    {
      "cell_type": "code",
      "source": [
        "## existen herencias cuando una variable toma los valores d euna inicial\n",
        "### en este caso si A es igual a B, entonces, si cambia algo de A esto pasará \n",
        "### en B\n",
        "A = [\"hard rock\", 10, 1.2]\n",
        "B = A\n",
        "print(A,B)"
      ],
      "metadata": {
        "id": "0RXrpIZUsk_4",
        "outputId": "61f5a435-a5f2-478c-8c73-5e4c2909db66",
        "colab": {
          "base_uri": "https://localhost:8080/"
        }
      },
      "execution_count": 110,
      "outputs": [
        {
          "output_type": "stream",
          "name": "stdout",
          "text": [
            "['hard rock', 10, 1.2] ['hard rock', 10, 1.2]\n"
          ]
        }
      ]
    },
    {
      "cell_type": "code",
      "source": [
        "A[0] = \"banana\"\n",
        "print(A,B)"
      ],
      "metadata": {
        "id": "4dMCVlHzvd1p",
        "outputId": "cab6d194-c094-4bf0-8836-be8445a083a7",
        "colab": {
          "base_uri": "https://localhost:8080/"
        }
      },
      "execution_count": 111,
      "outputs": [
        {
          "output_type": "stream",
          "name": "stdout",
          "text": [
            "['banana', 10, 1.2] ['banana', 10, 1.2]\n"
          ]
        }
      ]
    },
    {
      "cell_type": "code",
      "source": [
        "## Lo anterior no sucederá si se realiza una clonacion de la lista\n",
        "A = [\"hard rock\", 10, 1.2]\n",
        "B = A[:] # clonacion\n",
        "print(A,B)"
      ],
      "metadata": {
        "id": "-kIf052qvx4H",
        "outputId": "687d049d-9d9f-4286-bf83-49d65e620225",
        "colab": {
          "base_uri": "https://localhost:8080/"
        }
      },
      "execution_count": 112,
      "outputs": [
        {
          "output_type": "stream",
          "name": "stdout",
          "text": [
            "['hard rock', 10, 1.2] ['hard rock', 10, 1.2]\n"
          ]
        }
      ]
    },
    {
      "cell_type": "code",
      "source": [
        "A[0] = \"banana\"\n",
        "print(A,B)"
      ],
      "metadata": {
        "id": "F7aJKW_1v1Sb",
        "outputId": "6f4ce145-1d32-435d-a3be-e636c70d2e6c",
        "colab": {
          "base_uri": "https://localhost:8080/"
        }
      },
      "execution_count": 114,
      "outputs": [
        {
          "output_type": "stream",
          "name": "stdout",
          "text": [
            "['banana', 10, 1.2] ['hard rock', 10, 1.2]\n"
          ]
        }
      ]
    },
    {
      "cell_type": "code",
      "source": [
        "help(A)"
      ],
      "metadata": {
        "id": "NSzcW2_vv40J",
        "outputId": "725de3f5-5ebd-482d-ca85-5ba427b6a504",
        "colab": {
          "base_uri": "https://localhost:8080/"
        }
      },
      "execution_count": 115,
      "outputs": [
        {
          "output_type": "stream",
          "name": "stdout",
          "text": [
            "Help on list object:\n",
            "\n",
            "class list(object)\n",
            " |  list(iterable=(), /)\n",
            " |  \n",
            " |  Built-in mutable sequence.\n",
            " |  \n",
            " |  If no argument is given, the constructor creates a new empty list.\n",
            " |  The argument must be an iterable if specified.\n",
            " |  \n",
            " |  Methods defined here:\n",
            " |  \n",
            " |  __add__(self, value, /)\n",
            " |      Return self+value.\n",
            " |  \n",
            " |  __contains__(self, key, /)\n",
            " |      Return key in self.\n",
            " |  \n",
            " |  __delitem__(self, key, /)\n",
            " |      Delete self[key].\n",
            " |  \n",
            " |  __eq__(self, value, /)\n",
            " |      Return self==value.\n",
            " |  \n",
            " |  __ge__(self, value, /)\n",
            " |      Return self>=value.\n",
            " |  \n",
            " |  __getattribute__(self, name, /)\n",
            " |      Return getattr(self, name).\n",
            " |  \n",
            " |  __getitem__(...)\n",
            " |      x.__getitem__(y) <==> x[y]\n",
            " |  \n",
            " |  __gt__(self, value, /)\n",
            " |      Return self>value.\n",
            " |  \n",
            " |  __iadd__(self, value, /)\n",
            " |      Implement self+=value.\n",
            " |  \n",
            " |  __imul__(self, value, /)\n",
            " |      Implement self*=value.\n",
            " |  \n",
            " |  __init__(self, /, *args, **kwargs)\n",
            " |      Initialize self.  See help(type(self)) for accurate signature.\n",
            " |  \n",
            " |  __iter__(self, /)\n",
            " |      Implement iter(self).\n",
            " |  \n",
            " |  __le__(self, value, /)\n",
            " |      Return self<=value.\n",
            " |  \n",
            " |  __len__(self, /)\n",
            " |      Return len(self).\n",
            " |  \n",
            " |  __lt__(self, value, /)\n",
            " |      Return self<value.\n",
            " |  \n",
            " |  __mul__(self, value, /)\n",
            " |      Return self*value.\n",
            " |  \n",
            " |  __ne__(self, value, /)\n",
            " |      Return self!=value.\n",
            " |  \n",
            " |  __repr__(self, /)\n",
            " |      Return repr(self).\n",
            " |  \n",
            " |  __reversed__(self, /)\n",
            " |      Return a reverse iterator over the list.\n",
            " |  \n",
            " |  __rmul__(self, value, /)\n",
            " |      Return value*self.\n",
            " |  \n",
            " |  __setitem__(self, key, value, /)\n",
            " |      Set self[key] to value.\n",
            " |  \n",
            " |  __sizeof__(self, /)\n",
            " |      Return the size of the list in memory, in bytes.\n",
            " |  \n",
            " |  append(self, object, /)\n",
            " |      Append object to the end of the list.\n",
            " |  \n",
            " |  clear(self, /)\n",
            " |      Remove all items from list.\n",
            " |  \n",
            " |  copy(self, /)\n",
            " |      Return a shallow copy of the list.\n",
            " |  \n",
            " |  count(self, value, /)\n",
            " |      Return number of occurrences of value.\n",
            " |  \n",
            " |  extend(self, iterable, /)\n",
            " |      Extend list by appending elements from the iterable.\n",
            " |  \n",
            " |  index(self, value, start=0, stop=9223372036854775807, /)\n",
            " |      Return first index of value.\n",
            " |      \n",
            " |      Raises ValueError if the value is not present.\n",
            " |  \n",
            " |  insert(self, index, object, /)\n",
            " |      Insert object before index.\n",
            " |  \n",
            " |  pop(self, index=-1, /)\n",
            " |      Remove and return item at index (default last).\n",
            " |      \n",
            " |      Raises IndexError if list is empty or index is out of range.\n",
            " |  \n",
            " |  remove(self, value, /)\n",
            " |      Remove first occurrence of value.\n",
            " |      \n",
            " |      Raises ValueError if the value is not present.\n",
            " |  \n",
            " |  reverse(self, /)\n",
            " |      Reverse *IN PLACE*.\n",
            " |  \n",
            " |  sort(self, /, *, key=None, reverse=False)\n",
            " |      Stable sort *IN PLACE*.\n",
            " |  \n",
            " |  ----------------------------------------------------------------------\n",
            " |  Static methods defined here:\n",
            " |  \n",
            " |  __new__(*args, **kwargs) from builtins.type\n",
            " |      Create and return a new object.  See help(type) for accurate signature.\n",
            " |  \n",
            " |  ----------------------------------------------------------------------\n",
            " |  Data and other attributes defined here:\n",
            " |  \n",
            " |  __hash__ = None\n",
            "\n"
          ]
        }
      ]
    },
    {
      "cell_type": "code",
      "source": [
        "A=(0,1,2,3)"
      ],
      "metadata": {
        "id": "E6HRxkyBw-Y4"
      },
      "execution_count": null,
      "outputs": []
    },
    {
      "cell_type": "markdown",
      "source": [
        "# 2.3 Sets"
      ],
      "metadata": {
        "id": "rA90JNExmsop"
      }
    },
    {
      "cell_type": "code",
      "source": [
        "## a diferencia de las list y las tuplas, estas no mantienen el orden\n",
        "SetExample = {\"Triller\", \"rock and roll\", \"salsa\", \"amigos\", \"gato\", \"salsa\", \"Triller\"}\n",
        "print(SetExample) ## se resumen las palabras repetidas\n",
        "SetExample.add(\"NSYNC\")\n",
        "print(SetExample)\n",
        "SetExample.remove(\"NSYNC\")\n",
        "print(SetExample)\n",
        "print(\"Who\" in SetExample) # buscar si pertenece a ese elemento  "
      ],
      "metadata": {
        "colab": {
          "base_uri": "https://localhost:8080/"
        },
        "id": "bDgRQJVjgMHK",
        "outputId": "95140273-2106-4b8f-8f44-79f480c7fe0e"
      },
      "execution_count": 129,
      "outputs": [
        {
          "output_type": "stream",
          "name": "stdout",
          "text": [
            "{'salsa', 'gato', 'amigos', 'rock and roll', 'Triller'}\n",
            "{'salsa', 'gato', 'amigos', 'rock and roll', 'NSYNC', 'Triller'}\n",
            "{'salsa', 'gato', 'amigos', 'rock and roll', 'Triller'}\n",
            "False\n"
          ]
        }
      ]
    },
    {
      "cell_type": "code",
      "source": [
        "## operaciones logico matemático\n",
        "set_1 = {1,2,3,4,5,90,66,23,356,76,32}\n",
        "set_2 = {66,32,56,90}\n",
        "set_3 = {66,32}\n",
        "  ## interseccion de sets\n",
        "print(set_1 & set_2) # devuelve los resultados de intersección de los datos\n",
        "print(set_1.intersection(set_2)) \n",
        "  ## union de sets\n",
        "print(set_1.union(set_2)) ## mezcla los elementos una zola vez si es no existe repetidos\n",
        "  ## verificar si existen elementos de un set en otro\n",
        "print(set_3.issubset(set_1))\n",
        "print(set_3.issubset(set_2))\n",
        "\n",
        "print(set_3.issuperset(set_1))\n",
        "print(set_3.issuperset(set_2))\n",
        "print(set_1.issuperset(set_3))\n",
        "\n",
        "print(set_2.difference(set_3))\n",
        "print(set_3.difference(set_2)) ## estan contenidos todos"
      ],
      "metadata": {
        "id": "mtup-mE_2MNm",
        "outputId": "2a39f5be-08bd-47b3-97d6-996f1f850564",
        "colab": {
          "base_uri": "https://localhost:8080/"
        }
      },
      "execution_count": 142,
      "outputs": [
        {
          "output_type": "stream",
          "name": "stdout",
          "text": [
            "{32, 66, 90}\n",
            "{32, 66, 90}\n",
            "{32, 1, 2, 3, 4, 5, 66, 356, 76, 23, 56, 90}\n",
            "True\n",
            "True\n",
            "False\n",
            "False\n",
            "True\n",
            "{56, 90}\n",
            "set()\n"
          ]
        }
      ]
    },
    {
      "cell_type": "markdown",
      "source": [
        "# 2.4. Dictionaries\n"
      ],
      "metadata": {
        "id": "E2byaoQDgwBV"
      }
    },
    {
      "cell_type": "code",
      "source": [
        "# contienens keys and values\n",
        "tabla = {\"key1\":1, \"key2\":\"1\", \"key3\":[1,46,23], \"key4\":(675,7,21), \"key5\":4}\n",
        "print(tabla)\n",
        "print(tabla.keys())\n",
        "print(tabla.values())\n",
        "print(tabla[\"key1\"])\n",
        "print(tabla[\"key3\"])\n",
        "tabla[\"key6\"] = \"hola mundo\" # incluir un nuevo elemento\n",
        "print(tabla)\n",
        "# tabla = del(tabla[\"key1\"])\n",
        "print(\"key2\" in tabla)\n",
        "print(\"1\" in tabla)"
      ],
      "metadata": {
        "id": "whn3cEq-7tnW",
        "outputId": "a96c32e0-94b8-44be-8281-c4d45e712075",
        "colab": {
          "base_uri": "https://localhost:8080/"
        }
      },
      "execution_count": 165,
      "outputs": [
        {
          "output_type": "stream",
          "name": "stdout",
          "text": [
            "{'key1': 1, 'key2': '1', 'key3': [1, 46, 23], 'key4': (675, 7, 21), 'key5': 4}\n",
            "dict_keys(['key1', 'key2', 'key3', 'key4', 'key5'])\n",
            "dict_values([1, '1', [1, 46, 23], (675, 7, 21), 4])\n",
            "1\n",
            "[1, 46, 23]\n",
            "{'key1': 1, 'key2': '1', 'key3': [1, 46, 23], 'key4': (675, 7, 21), 'key5': 4, 'key6': 'hola mundo'}\n",
            "True\n",
            "False\n"
          ]
        }
      ]
    },
    {
      "cell_type": "code",
      "source": [],
      "metadata": {
        "id": "ev8HZ_zTCwFt"
      },
      "execution_count": null,
      "outputs": []
    }
  ]
}