{
  "nbformat": 4,
  "nbformat_minor": 0,
  "metadata": {
    "colab": {
      "name": "assignment01.ipynb",
      "provenance": [],
      "toc_visible": true,
      "include_colab_link": true
    },
    "kernelspec": {
      "name": "python3",
      "display_name": "Python 3"
    },
    "language_info": {
      "name": "python"
    }
  },
  "cells": [
    {
      "cell_type": "markdown",
      "metadata": {
        "id": "view-in-github",
        "colab_type": "text"
      },
      "source": [
        "<a href=\"https://colab.research.google.com/github/PosgradoMNA/actividades-de-aprendizaje-A01793108/blob/main/Actividades%20de%20aprendizaje%20-%20Ciencia%20de%20Datos%20-%20IBM%20-%20Ricardo%20Robayo.ipynb\" target=\"_parent\"><img src=\"https://colab.research.google.com/assets/colab-badge.svg\" alt=\"Open In Colab\"/></a>"
      ]
    },
    {
      "cell_type": "markdown",
      "source": [
        "# **Modulo 1**\n",
        "Curso de IBM"
      ],
      "metadata": {
        "id": "jLqUFcLg3sPp"
      }
    },
    {
      "cell_type": "code",
      "source": [
        "# para lograr imprimir resultados en pantalla\n",
        "print(\"Hola\\nMundo\")\n",
        "## para comentar resultados\n",
        "# print(\"Hola\\nMundo\")"
      ],
      "metadata": {
        "id": "mxM_WppZPMFx",
        "outputId": "c3cec756-062a-4ac1-d9b7-966c565d2c9a",
        "colab": {
          "base_uri": "https://localhost:8080/"
        }
      },
      "execution_count": 2,
      "outputs": [
        {
          "output_type": "stream",
          "name": "stdout",
          "text": [
            "Hola\n",
            "Mundo\n"
          ]
        }
      ]
    },
    {
      "cell_type": "markdown",
      "source": [
        "# 1.1 Tipos de data\n",
        "1.   character = str\n",
        "2.   boolean = bool\n",
        "3.   interger = int\n",
        "4.   float = float\n",
        "\n"
      ],
      "metadata": {
        "id": "UhR9K5IgA-c-"
      }
    },
    {
      "cell_type": "code",
      "source": [
        "## tipo de data en python\n",
        "print(type(int(1.1)))\n",
        "print(bool(1))\n",
        "print(int(True))"
      ],
      "metadata": {
        "id": "2cPVXiIC5pAx",
        "outputId": "71b92cdb-09f1-4e74-f6cf-a9c8694e66e0",
        "colab": {
          "base_uri": "https://localhost:8080/"
        }
      },
      "execution_count": 11,
      "outputs": [
        {
          "output_type": "stream",
          "name": "stdout",
          "text": [
            "<class 'int'>\n",
            "True\n",
            "1\n"
          ]
        }
      ]
    },
    {
      "cell_type": "markdown",
      "source": [
        "# 1.2 tipos de operaciones"
      ],
      "metadata": {
        "id": "Ge4vHy7rgkXC"
      }
    },
    {
      "cell_type": "code",
      "source": [
        "  ## multiplicacion\n",
        "print(1*33)\n",
        "  ## suma \n",
        "print(1+33)\n",
        "  ## resta\n",
        "print(1-33)\n",
        "  ## division\n",
        "print(20/3)\n",
        "print(20//3) ## sirve para generar algoritmos"
      ],
      "metadata": {
        "id": "g78OXSlGAsk6",
        "outputId": "da07b3e1-3460-4ef6-8f1d-e77424de88ed",
        "colab": {
          "base_uri": "https://localhost:8080/"
        }
      },
      "execution_count": 10,
      "outputs": [
        {
          "output_type": "stream",
          "name": "stdout",
          "text": [
            "33\n",
            "34\n",
            "-32\n",
            "6.666666666666667\n",
            "6\n"
          ]
        }
      ]
    },
    {
      "cell_type": "markdown",
      "source": [
        "# 1.1 Strings\n"
      ],
      "metadata": {
        "id": "on4KNTbiOZjE"
      }
    },
    {
      "cell_type": "code",
      "source": [
        "## Strings\n",
        "## Metodos\n",
        "  ## como las cadenas son secuencias pueden aplicarse métodos de listas y tuplas \n",
        "  ## pero adicionalmente tienen otro **grupo de métodos**\n",
        "\n",
        "### union de variables \n",
        "print(\"gato\" * 3)\n",
        "print(\"perro gato\" + \"comen comida\")\n",
        "mascotas = \"perro gato \"\n",
        "print( mascotas + \"comen comida con otros perros\")\n",
        "\n",
        "#### indexación de strings\n",
        "Numbers = \"012345\"\n",
        "print(Numbers[:5]) ## imprime los numeros dentro del rango, inclido el final\n",
        "print(Numbers[-1]) ## toma el ultimo elemento\n",
        "print(Numbers[1:2]) ## acota la toma de elementos\n",
        "print(Numbers[1:2])\n",
        "print(Numbers[::2])\n",
        "## restricciones determinar hasta que posicion toma informacion y luego cada 3 palabras\n",
        "print(Numbers[:4:3]) \n",
        "\n",
        "\n",
        "### se le conoce como un final: \\\n",
        "print(\"perros y gatos \\con dedos\") ## se mantiene como un fin \n",
        "print(\"perros y gatos \\\\d\")\n",
        "print(\"perros y gatos\\ncon dedos\")\n",
        "print(r\"perros y gatos \\\\d\") ## conserva un solo \\\n",
        "print(\"perros y gatos \\tcon dedos\")\n",
        "\n",
        "###### metodos específicos para strings ########\n",
        "nombre = \"Jhonathan\"\n",
        "print(nombre.find(\"t\")) # no admite listas para buscar elementos\n",
        "print(nombre.find(\"th\")) # arroja el valor donde se encuentra la primera letra en busqueda\n",
        "print(nombre.upper())\n",
        "print(nombre.replace(\"J\", \"X\"))\n",
        "print(len(nombre))"
      ],
      "metadata": {
        "id": "X2SDLYBSE_im",
        "outputId": "f11008bb-123d-425c-8092-667c27c5c121",
        "colab": {
          "base_uri": "https://localhost:8080/"
        }
      },
      "execution_count": 62,
      "outputs": [
        {
          "output_type": "stream",
          "name": "stdout",
          "text": [
            "gatogatogato\n",
            "perro gatocomen comida\n",
            "perro gato comen comida con otros perros\n",
            "01234\n",
            "5\n",
            "1\n",
            "1\n",
            "024\n",
            "03\n",
            "perros y gatos \\ con dedos\n",
            "perros y gatos \\d\n",
            "perros y gatos\n",
            "con dedos\n",
            "perros y gatos \\\\d\n",
            "perros y gatos \tcon dedos\n",
            "5\n",
            "5\n",
            "JHONATHAN\n",
            "Xhonathan\n",
            "9\n"
          ]
        }
      ]
    },
    {
      "cell_type": "markdown",
      "source": [
        "# **Modulo 2**\n",
        "\n",
        "\n",
        "\n",
        "1.   Tuplas\n",
        "2.   Listas\n",
        "3.   Sets\n",
        "4.   Dictionaries"
      ],
      "metadata": {
        "id": "CAmmWXr3BVt9"
      }
    },
    {
      "cell_type": "markdown",
      "source": [
        "# 2.1. Tuplas"
      ],
      "metadata": {
        "id": "5YhGrn7HgMvB"
      }
    },
    {
      "cell_type": "code",
      "source": [
        "# son elementos que no pueden ser modificados \n",
        "print((\"disco\", 10, 1.2))\n",
        "print((\"disco\", 10, 1.2) + (\"a\", \"c\"))\n",
        "print((\"disco\", 10, 1.2)[2]) #puedo ingresar por indexacion de forma directa\n",
        "print((\"disco\", 10, 1.2)[-2]) # existe indexacion inversa\n",
        "print((\"disco\", 10, 1.2)[1:3]) \n",
        "\n",
        "# las tuplas pueden contener otros elementos complejos o simples\n",
        "NT = (1, 2, (\"pop\", \"rock\"), (3,4), (\"disco\", (1,2)))\n",
        "print(NT[2]) # podemos considerarlo como si fueran arboles\n",
        "print(NT[2][1])\n",
        "print(NT[2][1][3])\n"
      ],
      "metadata": {
        "id": "8TL4eLijiQNh",
        "outputId": "8104e5fd-5f9d-4cb3-ad86-5cb14e71c245",
        "colab": {
          "base_uri": "https://localhost:8080/"
        }
      },
      "execution_count": 77,
      "outputs": [
        {
          "output_type": "stream",
          "name": "stdout",
          "text": [
            "('disco', 10, 1.2)\n",
            "('disco', 10, 1.2, 'a', 'c')\n",
            "1.2\n",
            "10\n",
            "(10, 1.2)\n",
            "('pop', 'rock')\n",
            "rock\n",
            "k\n"
          ]
        }
      ]
    },
    {
      "cell_type": "markdown",
      "source": [
        "# 2.2. Listas"
      ],
      "metadata": {
        "id": "Cini47gNgrye"
      }
    },
    {
      "cell_type": "code",
      "source": [],
      "metadata": {
        "id": "53MzBbCuiP46"
      },
      "execution_count": null,
      "outputs": []
    },
    {
      "cell_type": "markdown",
      "source": [
        "# 2.3. Dictionaries\n"
      ],
      "metadata": {
        "id": "E2byaoQDgwBV"
      }
    },
    {
      "cell_type": "code",
      "source": [],
      "metadata": {
        "id": "bDgRQJVjgMHK"
      },
      "execution_count": null,
      "outputs": []
    },
    {
      "cell_type": "markdown",
      "source": [
        "# 2.4 Listas"
      ],
      "metadata": {
        "id": "rA90JNExmsop"
      }
    }
  ]
}